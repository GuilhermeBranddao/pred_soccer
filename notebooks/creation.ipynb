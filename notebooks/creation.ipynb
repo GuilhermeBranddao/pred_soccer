{
 "cells": [
  {
   "cell_type": "code",
   "execution_count": 13,
   "metadata": {},
   "outputs": [],
   "source": []
  },
  {
   "cell_type": "code",
   "execution_count": 46,
   "metadata": {},
   "outputs": [
    {
     "name": "stdout",
     "output_type": "stream",
     "text": [
      "Selecionando o ano: 2023\n",
      "Dados salvos: fixtures_2023.html\n",
      "Navegador fechado.\n"
     ]
    }
   ],
   "source": [
    "from selenium import webdriver\n",
    "from selenium.webdriver.common.by import By\n",
    "from selenium.webdriver.common.action_chains import ActionChains\n",
    "from selenium.webdriver.chrome.service import Service\n",
    "from webdriver_manager.chrome import ChromeDriverManager\n",
    "from selenium.webdriver.support.ui import WebDriverWait\n",
    "from selenium.webdriver.support import expected_conditions as EC\n",
    "import time\n",
    "\n",
    "# Configurar o WebDriver\n",
    "service = Service(ChromeDriverManager().install())\n",
    "driver = webdriver.Chrome(service=service)\n",
    "\n",
    "try:\n",
    "    # URL da página principal\n",
    "    url = \"https://footystats.org/brazil/serie-a/fixtures\"\n",
    "    driver.get(url)\n",
    "    time.sleep(3)  # Esperar carregar o conteúdo inicial\n",
    "    \n",
    "    # Esperar o dropdown de anos ser carregado\n",
    "    WebDriverWait(driver, 10).until(EC.presence_of_element_located((By.CSS_SELECTOR, \"ul.drop-down li a\")))\n",
    "\n",
    "    # Selecionar o botão do primeiro ano (mais recente)\n",
    "    first_year_button = driver.find_element(By.CSS_SELECTOR, \"ul.drop-down li a\")\n",
    "    \n",
    "    # Capturar o ano via JavaScript (caso o Selenium não consiga pegar o texto diretamente)\n",
    "    first_year_text = driver.execute_script(\"return arguments[0].textContent;\", first_year_button).strip()\n",
    "    print(f\"Selecionando o ano: {first_year_text}\")\n",
    "    \n",
    "    # Scroll até o botão (garantir visibilidade) e clicar\n",
    "    driver.execute_script(\"arguments[0].scrollIntoView(true);\", first_year_button)\n",
    "    time.sleep(1)\n",
    "    \n",
    "    # Clicar no botão do ano\n",
    "    ActionChains(driver).move_to_element(first_year_button).click().perform()\n",
    "    time.sleep(5)  # Esperar carregar a nova página\n",
    "    \n",
    "    # Capturar o HTML da página carregada\n",
    "    page_source = driver.page_source\n",
    "    \n",
    "    # Salvar em um arquivo\n",
    "    with open(f\"fixtures_{first_year_text}.html\", \"w\", encoding=\"utf-8\") as file:\n",
    "        file.write(page_source)\n",
    "        print(f\"Dados salvos: fixtures_{first_year_text}.html\")\n",
    "\n",
    "except Exception as e:\n",
    "    print(f\"Erro: {e}\")\n",
    "\n",
    "finally:\n",
    "    # Fechar o navegador\n",
    "    driver.quit()\n",
    "    print(\"Navegador fechado.\")\n"
   ]
  },
  {
   "cell_type": "code",
   "execution_count": 14,
   "metadata": {},
   "outputs": [
    {
     "data": {
      "text/plain": [
       "Index(['Country', 'League', 'Season', 'Date', 'Time', 'Home', 'Away', 'HG',\n",
       "       'AG', 'Res', 'PSCH', 'PSCD', 'PSCA', 'MaxCH', 'MaxCD', 'MaxCA', 'AvgCH',\n",
       "       'AvgCD', 'AvgCA', 'BFECH', 'BFECD', 'BFECA'],\n",
       "      dtype='object')"
      ]
     },
     "execution_count": 14,
     "metadata": {},
     "output_type": "execute_result"
    }
   ],
   "source": [
    "import pandas as pd\n",
    "\n",
    "df = pd.read_csv(\"BRA.csv\")\n",
    "\n",
    "df.columns"
   ]
  },
  {
   "cell_type": "code",
   "execution_count": null,
   "metadata": {},
   "outputs": [],
   "source": []
  },
  {
   "cell_type": "code",
   "execution_count": 64,
   "metadata": {},
   "outputs": [
    {
     "name": "stdout",
     "output_type": "stream",
     "text": [
      "Erro: Message: element not interactable\n",
      "  (Session info: chrome=131.0.6778.139)\n",
      "Stacktrace:\n",
      "#0 0x62655821531a <unknown>\n",
      "#1 0x626557d2b53d <unknown>\n",
      "#2 0x626557d7b54c <unknown>\n",
      "#3 0x626557d6f0d5 <unknown>\n",
      "#4 0x626557d9e462 <unknown>\n",
      "#5 0x626557d6ea18 <unknown>\n",
      "#6 0x626557d9e62e <unknown>\n",
      "#7 0x626557dbced7 <unknown>\n",
      "#8 0x626557d9e203 <unknown>\n",
      "#9 0x626557d6ccc0 <unknown>\n",
      "#10 0x626557d6dc9e <unknown>\n",
      "#11 0x6265581e2d0b <unknown>\n",
      "#12 0x6265581e6c92 <unknown>\n",
      "#13 0x6265581cfb3c <unknown>\n",
      "#14 0x6265581e7807 <unknown>\n",
      "#15 0x6265581b50df <unknown>\n",
      "#16 0x626558204578 <unknown>\n",
      "#17 0x626558204740 <unknown>\n",
      "#18 0x626558214196 <unknown>\n",
      "#19 0x7fefc669ca94 <unknown>\n",
      "#20 0x7fefc6729c3c <unknown>\n",
      "\n",
      "ERROR Navegador fechado.\n"
     ]
    }
   ],
   "source": [
    "# Código anterior com modificação para destacar o elemento com uma borda vermelha\n",
    "\n",
    "from selenium import webdriver\n",
    "from selenium.webdriver.common.by import By\n",
    "from selenium.webdriver.common.action_chains import ActionChains\n",
    "from selenium.webdriver.chrome.service import Service\n",
    "from webdriver_manager.chrome import ChromeDriverManager\n",
    "import time\n",
    "\n",
    "# Configurar o WebDriver\n",
    "service = Service(ChromeDriverManager().install())\n",
    "driver = webdriver.Chrome(service=service)\n",
    "\n",
    "try:\n",
    "    # URL da página principal\n",
    "    url = \"https://footystats.org/brazil/serie-a/fixtures\"\n",
    "    driver.get(url)\n",
    "    time.sleep(3)  # Esperar carregar o conteúdo inicial\n",
    "\n",
    "    # Encontrar o dropdown (elemento do ano)\n",
    "    dropdown = driver.find_element(By.CLASS_NAME, 'drop-down-parent')\n",
    "\n",
    "    # Criar uma ação para simular o hover sobre o dropdown\n",
    "    actions = ActionChains(driver)\n",
    "    actions.move_to_element(dropdown).perform()\n",
    "\n",
    "    # Aguardar o dropdown abrir\n",
    "    time.sleep(1)\n",
    "\n",
    "    # Encontrar todos os itens de ano no dropdown\n",
    "    anos = driver.find_elements(By.XPATH, '//ul[@class=\"drop-down\"]/li/a')\n",
    "    \n",
    "    # Extrair os anos inicial e final\n",
    "    anos_lista = [ano.text for ano in anos]\n",
    "\n",
    "    for ano in anos_lista:\n",
    "        # Encontrar o item de ano que você deseja (exemplo: 2023)\n",
    "        target = driver.find_element(By.XPATH, f'//a[@data-hash=\"{ano}\"]')\n",
    "\n",
    "        # Clicar no item de ano desejado\n",
    "        target.click()\n",
    "\n",
    "        # Aguardar a página carregar após o clique (ajustar conforme necessário)\n",
    "        time.sleep(3)\n",
    "\n",
    "        # Agora você pode coletar os dados da página, por exemplo, obter os resultados dos jogos\n",
    "        # Exemplo: Coletar informações sobre os jogos, você pode ajustar conforme necessário\n",
    "        jogos = driver.find_elements(By.CLASS_NAME, 'fixture')\n",
    "\n",
    "        for jogo in jogos:\n",
    "            time_casa = jogo.find_element(By.CLASS_NAME, 'home-team').text\n",
    "            time_visitante = jogo.find_element(By.CLASS_NAME, 'away-team').text\n",
    "            placar = jogo.find_element(By.CLASS_NAME, 'score').text\n",
    "            print(f\"{time_casa} vs {time_visitante}: {placar}\")\n",
    "\n",
    "    # Fechar o navegador após a coleta\n",
    "    \n",
    "    driver.quit()\n",
    "    print(\"Mouse aproximado no dropdown de anos.\")\n",
    "\n",
    "except Exception as e:\n",
    "    print(f\"Erro: {e}\")\n",
    "\n",
    "finally:\n",
    "    # Fechar o navegador\n",
    "    driver.quit()\n",
    "    print(\"ERROR Navegador fechado.\")\n"
   ]
  },
  {
   "cell_type": "code",
   "execution_count": 62,
   "metadata": {},
   "outputs": [
    {
     "data": {
      "text/plain": [
       "<selenium.webdriver.remote.webelement.WebElement (session=\"cb44acd8f9a79343c9a7794745c4138f\", element=\"f.15D67C3C175A6EE6B7D2B2524AA9B74C.d.271ED171A0183DB461114A3E00A66B66.e.291\")>"
      ]
     },
     "execution_count": 62,
     "metadata": {},
     "output_type": "execute_result"
    }
   ],
   "source": [
    "ano"
   ]
  },
  {
   "cell_type": "code",
   "execution_count": null,
   "metadata": {},
   "outputs": [],
   "source": []
  },
  {
   "cell_type": "code",
   "execution_count": null,
   "metadata": {},
   "outputs": [],
   "source": []
  },
  {
   "cell_type": "code",
   "execution_count": null,
   "metadata": {},
   "outputs": [
    {
     "name": "stdout",
     "output_type": "stream",
     "text": [
      "Navegador fechado.\n"
     ]
    }
   ],
   "source": [
    "\n",
    "\n",
    "\n",
    "try:\n",
    "    while True:\n",
    "        # Localizar os elementos novamente a cada iteração\n",
    "        dropdown_years = wait.until(EC.presence_of_all_elements_located((By.CSS_SELECTOR, dropdown_selector)))\n",
    "        \n",
    "        for year in dropdown_years:\n",
    "            year_text = year.text.strip()  # Remover espaços extras\n",
    "            if year_text in years_captured or not year_text:\n",
    "                continue  # Evita duplicatas ou elementos inválidos\n",
    "            \n",
    "            print(f\"Coletando dados para o ano: {year_text}\")\n",
    "            years_captured.append(year_text)  # Marcar o ano como processado\n",
    "            \n",
    "            # Scroll até o elemento (para garantir visibilidade)\n",
    "            driver.execute_script(\"arguments[0].scrollIntoView(true);\", year)\n",
    "            time.sleep(1)\n",
    "            \n",
    "            # Clicar no botão do ano\n",
    "            try:\n",
    "                ActionChains(driver).move_to_element(year).click().perform()\n",
    "                time.sleep(5)  # Esperar a página carregar os dados\n",
    "            except Exception as e:\n",
    "                print(f\"Erro ao clicar no ano {year_text}: {e}\")\n",
    "                continue\n",
    "            \n",
    "            # Capturar o HTML da página carregada\n",
    "            page_source = driver.page_source\n",
    "            \n",
    "            # Salvar o conteúdo da página em um arquivo\n",
    "            with open(f\"fixtures_{year_text}.html\", \"w\", encoding=\"utf-8\") as file:\n",
    "                file.write(page_source)\n",
    "                print(f\"Dados salvos: fixtures_{year_text}.html\")\n",
    "        \n",
    "        break  # Sair do loop após processar todos os anos\n",
    "\n",
    "except Exception as e:\n",
    "    print(f\"Erro inesperado: {e}\")\n",
    "\n",
    "finally:\n",
    "    # Fechar o navegador\n",
    "    driver.quit()\n",
    "    print(\"Navegador fechado.\")\n"
   ]
  },
  {
   "cell_type": "code",
   "execution_count": null,
   "metadata": {},
   "outputs": [],
   "source": []
  },
  {
   "cell_type": "code",
   "execution_count": null,
   "metadata": {},
   "outputs": [],
   "source": []
  },
  {
   "cell_type": "code",
   "execution_count": null,
   "metadata": {},
   "outputs": [],
   "source": []
  }
 ],
 "metadata": {
  "kernelspec": {
   "display_name": "pred-soccer-Ppg3ABQz-py3.12",
   "language": "python",
   "name": "python3"
  },
  "language_info": {
   "codemirror_mode": {
    "name": "ipython",
    "version": 3
   },
   "file_extension": ".py",
   "mimetype": "text/x-python",
   "name": "python",
   "nbconvert_exporter": "python",
   "pygments_lexer": "ipython3",
   "version": "3.12.3"
  }
 },
 "nbformat": 4,
 "nbformat_minor": 2
}
