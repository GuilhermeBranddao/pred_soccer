{
 "cells": [
  {
   "cell_type": "code",
   "execution_count": 35,
   "metadata": {},
   "outputs": [],
   "source": [
    "import os\n",
    "import numpy as np\n",
    "import pandas as pd\n",
    "from datetime import datetime\n",
    "\n",
    "pd.set_option('display.max_columns', 1000)\n",
    "pd.set_option('display.max_rows', 100)"
   ]
  },
  {
   "cell_type": "code",
   "execution_count": 36,
   "metadata": {},
   "outputs": [
    {
     "data": {
      "text/html": [
       "<div>\n",
       "<style scoped>\n",
       "    .dataframe tbody tr th:only-of-type {\n",
       "        vertical-align: middle;\n",
       "    }\n",
       "\n",
       "    .dataframe tbody tr th {\n",
       "        vertical-align: top;\n",
       "    }\n",
       "\n",
       "    .dataframe thead th {\n",
       "        text-align: right;\n",
       "    }\n",
       "</style>\n",
       "<table border=\"1\" class=\"dataframe\">\n",
       "  <thead>\n",
       "    <tr style=\"text-align: right;\">\n",
       "      <th></th>\n",
       "      <th>season</th>\n",
       "      <th>rodada</th>\n",
       "      <th>date</th>\n",
       "      <th>match_name</th>\n",
       "      <th>home_team</th>\n",
       "      <th>away_team</th>\n",
       "      <th>winner</th>\n",
       "      <th>home_score</th>\n",
       "      <th>away_score</th>\n",
       "      <th>h_match_points</th>\n",
       "      <th>a_match_points</th>\n",
       "      <th>ht_rank</th>\n",
       "      <th>ht_ls_rank</th>\n",
       "      <th>ht_days_ls_match</th>\n",
       "      <th>ht_points</th>\n",
       "      <th>ht_l_points</th>\n",
       "      <th>ht_l_wavg_points</th>\n",
       "      <th>ht_goals</th>\n",
       "      <th>ht_l_goals</th>\n",
       "      <th>ht_l_wavg_goals</th>\n",
       "      <th>ht_goals_sf</th>\n",
       "      <th>ht_l_goals_sf</th>\n",
       "      <th>ht_l_wavg_goals_sf</th>\n",
       "      <th>ht_wins</th>\n",
       "      <th>ht_draws</th>\n",
       "      <th>ht_losses</th>\n",
       "      <th>ht_win_streak</th>\n",
       "      <th>ht_loss_streak</th>\n",
       "      <th>ht_draw_streak</th>\n",
       "      <th>at_rank</th>\n",
       "      <th>at_ls_rank</th>\n",
       "      <th>at_days_ls_match</th>\n",
       "      <th>at_points</th>\n",
       "      <th>at_l_points</th>\n",
       "      <th>at_l_wavg_points</th>\n",
       "      <th>at_goals</th>\n",
       "      <th>at_l_goals</th>\n",
       "      <th>at_l_wavg_goals</th>\n",
       "      <th>at_goals_sf</th>\n",
       "      <th>at_l_goals_sf</th>\n",
       "      <th>at_l_wavg_goals_sf</th>\n",
       "      <th>at_wins</th>\n",
       "      <th>at_draws</th>\n",
       "      <th>at_losses</th>\n",
       "      <th>at_win_streak</th>\n",
       "      <th>at_loss_streak</th>\n",
       "      <th>at_draw_streak</th>\n",
       "      <th>ls_winner</th>\n",
       "    </tr>\n",
       "  </thead>\n",
       "  <tbody>\n",
       "    <tr>\n",
       "      <th>8247</th>\n",
       "      <td>2008</td>\n",
       "      <td>22</td>\n",
       "      <td>2008-08-23</td>\n",
       "      <td>Figueirense FC - EC Vitória</td>\n",
       "      <td>Figueirense FC</td>\n",
       "      <td>EC Vitória</td>\n",
       "      <td>1</td>\n",
       "      <td>1</td>\n",
       "      <td>2</td>\n",
       "      <td>0</td>\n",
       "      <td>3</td>\n",
       "      <td>17</td>\n",
       "      <td>13.0</td>\n",
       "      <td>3.0</td>\n",
       "      <td>28</td>\n",
       "      <td>1.333333</td>\n",
       "      <td>0.997307</td>\n",
       "      <td>26</td>\n",
       "      <td>8.666667</td>\n",
       "      <td>0.773551</td>\n",
       "      <td>39</td>\n",
       "      <td>8.333333</td>\n",
       "      <td>2.076757</td>\n",
       "      <td>7</td>\n",
       "      <td>7</td>\n",
       "      <td>7</td>\n",
       "      <td>0</td>\n",
       "      <td>1</td>\n",
       "      <td>0</td>\n",
       "      <td>10</td>\n",
       "      <td>-33.0</td>\n",
       "      <td>3.0</td>\n",
       "      <td>33</td>\n",
       "      <td>1.333333</td>\n",
       "      <td>0.940871</td>\n",
       "      <td>31</td>\n",
       "      <td>10.333333</td>\n",
       "      <td>0.927017</td>\n",
       "      <td>23</td>\n",
       "      <td>5.000000</td>\n",
       "      <td>0.785807</td>\n",
       "      <td>10</td>\n",
       "      <td>3</td>\n",
       "      <td>8</td>\n",
       "      <td>0</td>\n",
       "      <td>0</td>\n",
       "      <td>1</td>\n",
       "      <td>AWAY_TEAM</td>\n",
       "    </tr>\n",
       "    <tr>\n",
       "      <th>8248</th>\n",
       "      <td>2008</td>\n",
       "      <td>24</td>\n",
       "      <td>2008-09-03</td>\n",
       "      <td>Figueirense FC - Flamengo</td>\n",
       "      <td>Figueirense FC</td>\n",
       "      <td>Flamengo</td>\n",
       "      <td>1</td>\n",
       "      <td>2</td>\n",
       "      <td>3</td>\n",
       "      <td>0</td>\n",
       "      <td>3</td>\n",
       "      <td>17</td>\n",
       "      <td>13.0</td>\n",
       "      <td>4.0</td>\n",
       "      <td>28</td>\n",
       "      <td>0.000000</td>\n",
       "      <td>0.249327</td>\n",
       "      <td>27</td>\n",
       "      <td>9.000000</td>\n",
       "      <td>0.443388</td>\n",
       "      <td>43</td>\n",
       "      <td>9.000000</td>\n",
       "      <td>2.019189</td>\n",
       "      <td>7</td>\n",
       "      <td>7</td>\n",
       "      <td>9</td>\n",
       "      <td>0</td>\n",
       "      <td>3</td>\n",
       "      <td>0</td>\n",
       "      <td>5</td>\n",
       "      <td>4.0</td>\n",
       "      <td>3.0</td>\n",
       "      <td>37</td>\n",
       "      <td>1.666667</td>\n",
       "      <td>1.284778</td>\n",
       "      <td>37</td>\n",
       "      <td>12.333333</td>\n",
       "      <td>1.682233</td>\n",
       "      <td>25</td>\n",
       "      <td>8.666667</td>\n",
       "      <td>1.553689</td>\n",
       "      <td>10</td>\n",
       "      <td>7</td>\n",
       "      <td>6</td>\n",
       "      <td>0</td>\n",
       "      <td>0</td>\n",
       "      <td>2</td>\n",
       "      <td>AWAY_TEAM</td>\n",
       "    </tr>\n",
       "    <tr>\n",
       "      <th>8249</th>\n",
       "      <td>2008</td>\n",
       "      <td>26</td>\n",
       "      <td>2008-09-21</td>\n",
       "      <td>Figueirense FC - Cruzeiro</td>\n",
       "      <td>Figueirense FC</td>\n",
       "      <td>Cruzeiro</td>\n",
       "      <td>1</td>\n",
       "      <td>3</td>\n",
       "      <td>4</td>\n",
       "      <td>0</td>\n",
       "      <td>3</td>\n",
       "      <td>17</td>\n",
       "      <td>13.0</td>\n",
       "      <td>7.0</td>\n",
       "      <td>28</td>\n",
       "      <td>0.000000</td>\n",
       "      <td>0.062332</td>\n",
       "      <td>29</td>\n",
       "      <td>9.666667</td>\n",
       "      <td>0.610847</td>\n",
       "      <td>51</td>\n",
       "      <td>10.000000</td>\n",
       "      <td>3.754797</td>\n",
       "      <td>7</td>\n",
       "      <td>7</td>\n",
       "      <td>11</td>\n",
       "      <td>0</td>\n",
       "      <td>5</td>\n",
       "      <td>0</td>\n",
       "      <td>3</td>\n",
       "      <td>5.0</td>\n",
       "      <td>7.0</td>\n",
       "      <td>43</td>\n",
       "      <td>1.333333</td>\n",
       "      <td>0.944149</td>\n",
       "      <td>38</td>\n",
       "      <td>12.666667</td>\n",
       "      <td>0.931318</td>\n",
       "      <td>26</td>\n",
       "      <td>8.000000</td>\n",
       "      <td>1.067338</td>\n",
       "      <td>13</td>\n",
       "      <td>4</td>\n",
       "      <td>8</td>\n",
       "      <td>0</td>\n",
       "      <td>1</td>\n",
       "      <td>0</td>\n",
       "      <td>AWAY_TEAM</td>\n",
       "    </tr>\n",
       "    <tr>\n",
       "      <th>8250</th>\n",
       "      <td>2008</td>\n",
       "      <td>36</td>\n",
       "      <td>2008-11-20</td>\n",
       "      <td>Figueirense FC - Náutico</td>\n",
       "      <td>Figueirense FC</td>\n",
       "      <td>Náutico</td>\n",
       "      <td>2</td>\n",
       "      <td>4</td>\n",
       "      <td>3</td>\n",
       "      <td>3</td>\n",
       "      <td>0</td>\n",
       "      <td>17</td>\n",
       "      <td>13.0</td>\n",
       "      <td>4.0</td>\n",
       "      <td>35</td>\n",
       "      <td>0.000000</td>\n",
       "      <td>0.099670</td>\n",
       "      <td>39</td>\n",
       "      <td>13.000000</td>\n",
       "      <td>0.597276</td>\n",
       "      <td>68</td>\n",
       "      <td>14.666667</td>\n",
       "      <td>2.312261</td>\n",
       "      <td>8</td>\n",
       "      <td>11</td>\n",
       "      <td>16</td>\n",
       "      <td>0</td>\n",
       "      <td>3</td>\n",
       "      <td>0</td>\n",
       "      <td>16</td>\n",
       "      <td>15.0</td>\n",
       "      <td>5.0</td>\n",
       "      <td>40</td>\n",
       "      <td>2.333333</td>\n",
       "      <td>2.238732</td>\n",
       "      <td>39</td>\n",
       "      <td>13.000000</td>\n",
       "      <td>2.753156</td>\n",
       "      <td>49</td>\n",
       "      <td>11.333333</td>\n",
       "      <td>1.143404</td>\n",
       "      <td>10</td>\n",
       "      <td>10</td>\n",
       "      <td>15</td>\n",
       "      <td>1</td>\n",
       "      <td>0</td>\n",
       "      <td>0</td>\n",
       "      <td>AWAY_TEAM</td>\n",
       "    </tr>\n",
       "    <tr>\n",
       "      <th>8251</th>\n",
       "      <td>2008</td>\n",
       "      <td>37</td>\n",
       "      <td>2008-11-30</td>\n",
       "      <td>Ipatinga FC - Grêmio</td>\n",
       "      <td>Ipatinga FC</td>\n",
       "      <td>Grêmio</td>\n",
       "      <td>1</td>\n",
       "      <td>1</td>\n",
       "      <td>4</td>\n",
       "      <td>0</td>\n",
       "      <td>3</td>\n",
       "      <td>20</td>\n",
       "      <td>-33.0</td>\n",
       "      <td>7.0</td>\n",
       "      <td>34</td>\n",
       "      <td>1.000000</td>\n",
       "      <td>0.949155</td>\n",
       "      <td>35</td>\n",
       "      <td>11.666667</td>\n",
       "      <td>0.888483</td>\n",
       "      <td>62</td>\n",
       "      <td>9.666667</td>\n",
       "      <td>1.629213</td>\n",
       "      <td>9</td>\n",
       "      <td>7</td>\n",
       "      <td>20</td>\n",
       "      <td>0</td>\n",
       "      <td>1</td>\n",
       "      <td>0</td>\n",
       "      <td>2</td>\n",
       "      <td>7.0</td>\n",
       "      <td>7.0</td>\n",
       "      <td>66</td>\n",
       "      <td>2.000000</td>\n",
       "      <td>1.252822</td>\n",
       "      <td>53</td>\n",
       "      <td>17.666667</td>\n",
       "      <td>1.716261</td>\n",
       "      <td>34</td>\n",
       "      <td>12.000000</td>\n",
       "      <td>2.428345</td>\n",
       "      <td>19</td>\n",
       "      <td>9</td>\n",
       "      <td>8</td>\n",
       "      <td>0</td>\n",
       "      <td>1</td>\n",
       "      <td>0</td>\n",
       "      <td>AWAY_TEAM</td>\n",
       "    </tr>\n",
       "  </tbody>\n",
       "</table>\n",
       "</div>"
      ],
      "text/plain": [
       "      season  rodada        date                   match_name       home_team  \\\n",
       "8247    2008      22  2008-08-23  Figueirense FC - EC Vitória  Figueirense FC   \n",
       "8248    2008      24  2008-09-03    Figueirense FC - Flamengo  Figueirense FC   \n",
       "8249    2008      26  2008-09-21    Figueirense FC - Cruzeiro  Figueirense FC   \n",
       "8250    2008      36  2008-11-20     Figueirense FC - Náutico  Figueirense FC   \n",
       "8251    2008      37  2008-11-30         Ipatinga FC - Grêmio     Ipatinga FC   \n",
       "\n",
       "       away_team  winner  home_score  away_score  h_match_points  \\\n",
       "8247  EC Vitória       1           1           2               0   \n",
       "8248    Flamengo       1           2           3               0   \n",
       "8249    Cruzeiro       1           3           4               0   \n",
       "8250     Náutico       2           4           3               3   \n",
       "8251      Grêmio       1           1           4               0   \n",
       "\n",
       "      a_match_points  ht_rank  ht_ls_rank  ht_days_ls_match  ht_points  \\\n",
       "8247               3       17        13.0               3.0         28   \n",
       "8248               3       17        13.0               4.0         28   \n",
       "8249               3       17        13.0               7.0         28   \n",
       "8250               0       17        13.0               4.0         35   \n",
       "8251               3       20       -33.0               7.0         34   \n",
       "\n",
       "      ht_l_points  ht_l_wavg_points  ht_goals  ht_l_goals  ht_l_wavg_goals  \\\n",
       "8247     1.333333          0.997307        26    8.666667         0.773551   \n",
       "8248     0.000000          0.249327        27    9.000000         0.443388   \n",
       "8249     0.000000          0.062332        29    9.666667         0.610847   \n",
       "8250     0.000000          0.099670        39   13.000000         0.597276   \n",
       "8251     1.000000          0.949155        35   11.666667         0.888483   \n",
       "\n",
       "      ht_goals_sf  ht_l_goals_sf  ht_l_wavg_goals_sf  ht_wins  ht_draws  \\\n",
       "8247           39       8.333333            2.076757        7         7   \n",
       "8248           43       9.000000            2.019189        7         7   \n",
       "8249           51      10.000000            3.754797        7         7   \n",
       "8250           68      14.666667            2.312261        8        11   \n",
       "8251           62       9.666667            1.629213        9         7   \n",
       "\n",
       "      ht_losses  ht_win_streak  ht_loss_streak  ht_draw_streak  at_rank  \\\n",
       "8247          7              0               1               0       10   \n",
       "8248          9              0               3               0        5   \n",
       "8249         11              0               5               0        3   \n",
       "8250         16              0               3               0       16   \n",
       "8251         20              0               1               0        2   \n",
       "\n",
       "      at_ls_rank  at_days_ls_match  at_points  at_l_points  at_l_wavg_points  \\\n",
       "8247       -33.0               3.0         33     1.333333          0.940871   \n",
       "8248         4.0               3.0         37     1.666667          1.284778   \n",
       "8249         5.0               7.0         43     1.333333          0.944149   \n",
       "8250        15.0               5.0         40     2.333333          2.238732   \n",
       "8251         7.0               7.0         66     2.000000          1.252822   \n",
       "\n",
       "      at_goals  at_l_goals  at_l_wavg_goals  at_goals_sf  at_l_goals_sf  \\\n",
       "8247        31   10.333333         0.927017           23       5.000000   \n",
       "8248        37   12.333333         1.682233           25       8.666667   \n",
       "8249        38   12.666667         0.931318           26       8.000000   \n",
       "8250        39   13.000000         2.753156           49      11.333333   \n",
       "8251        53   17.666667         1.716261           34      12.000000   \n",
       "\n",
       "      at_l_wavg_goals_sf  at_wins  at_draws  at_losses  at_win_streak  \\\n",
       "8247            0.785807       10         3          8              0   \n",
       "8248            1.553689       10         7          6              0   \n",
       "8249            1.067338       13         4          8              0   \n",
       "8250            1.143404       10        10         15              1   \n",
       "8251            2.428345       19         9          8              0   \n",
       "\n",
       "      at_loss_streak  at_draw_streak  ls_winner  \n",
       "8247               0               1  AWAY_TEAM  \n",
       "8248               0               2  AWAY_TEAM  \n",
       "8249               1               0  AWAY_TEAM  \n",
       "8250               0               0  AWAY_TEAM  \n",
       "8251               1               0  AWAY_TEAM  "
      ]
     },
     "execution_count": 36,
     "metadata": {},
     "output_type": "execute_result"
    }
   ],
   "source": [
    "BASE_DIR = os.path.dirname(os.path.dirname(os.path.abspath('__file__')))\n",
    "DATA_DIR = os.path.join(BASE_DIR, 'feature_eng', 'data', 'ft_df.csv')\n",
    "#FT_DIR = os.path.join(BASE_DIR, 'get_data', 'data')\n",
    "\n",
    "df = pd.read_csv(os.path.join(DATA_DIR))\n",
    "df.tail()"
   ]
  },
  {
   "cell_type": "code",
   "execution_count": 37,
   "metadata": {},
   "outputs": [
    {
     "data": {
      "text/plain": [
       "<Axes: ylabel='count'>"
      ]
     },
     "execution_count": 37,
     "metadata": {},
     "output_type": "execute_result"
    },
    {
     "data": {
      "image/png": "[encoded data removed]",
      "text/plain": [
       "<Figure size 640x480 with 1 Axes>"
      ]
     },
     "metadata": {},
     "output_type": "display_data"
    }
   ],
   "source": [
    "df['winner'].value_counts().plot.pie(autopct='%1.1f%%')\n"
   ]
  },
  {
   "cell_type": "code",
   "execution_count": 3,
   "metadata": {},
   "outputs": [
    {
     "data": {
      "image/png": "[encoded data removed]",
      "text/plain": [
       "<Figure size 640x480 with 1 Axes>"
      ]
     },
     "metadata": {},
     "output_type": "display_data"
    }
   ],
   "source": [
    "data = df.copy()\n",
    "\n",
    "import matplotlib.pyplot as plt\n",
    "plt.plot(data['ht_points'])\n",
    "plt.show()\n"
   ]
  },
  {
   "cell_type": "code",
   "execution_count": 4,
   "metadata": {},
   "outputs": [],
   "source": [
    "import seaborn as sns\n",
    "sns.pairplot(df, hue=\"ht_points\")\n",
    "plt.show()\n"
   ]
  },
  {
   "cell_type": "markdown",
   "metadata": {},
   "source": [
    "## Algo legal"
   ]
  },
  {
   "cell_type": "code",
   "execution_count": 236,
   "metadata": {},
   "outputs": [
    {
     "data": {
      "text/html": [
       "<div>\n",
       "<style scoped>\n",
       "    .dataframe tbody tr th:only-of-type {\n",
       "        vertical-align: middle;\n",
       "    }\n",
       "\n",
       "    .dataframe tbody tr th {\n",
       "        vertical-align: top;\n",
       "    }\n",
       "\n",
       "    .dataframe thead th {\n",
       "        text-align: right;\n",
       "    }\n",
       "</style>\n",
       "<table border=\"1\" class=\"dataframe\">\n",
       "  <thead>\n",
       "    <tr style=\"text-align: right;\">\n",
       "      <th></th>\n",
       "      <th>data</th>\n",
       "      <th>time</th>\n",
       "      <th>rodada</th>\n",
       "      <th>team_type</th>\n",
       "      <th>winner</th>\n",
       "      <th>match_points</th>\n",
       "      <th>rank</th>\n",
       "      <th>ls_rank</th>\n",
       "      <th>days_ls_match</th>\n",
       "      <th>points</th>\n",
       "      <th>l_points</th>\n",
       "      <th>l_wavg_points</th>\n",
       "      <th>goals</th>\n",
       "      <th>l_goals</th>\n",
       "      <th>l_wavg_goals</th>\n",
       "      <th>goals_sf</th>\n",
       "      <th>l_goals_sf</th>\n",
       "      <th>l_wavg_goals_sf</th>\n",
       "      <th>wins</th>\n",
       "      <th>draws</th>\n",
       "      <th>losses</th>\n",
       "      <th>win_streak</th>\n",
       "      <th>loss_streak</th>\n",
       "      <th>draw_streak</th>\n",
       "    </tr>\n",
       "  </thead>\n",
       "  <tbody>\n",
       "    <tr>\n",
       "      <th>0</th>\n",
       "      <td>2023-04-15</td>\n",
       "      <td>Palmeiras</td>\n",
       "      <td>1</td>\n",
       "      <td>home_team</td>\n",
       "      <td>2</td>\n",
       "      <td>3</td>\n",
       "      <td>1</td>\n",
       "      <td>1.0</td>\n",
       "      <td>-33.0</td>\n",
       "      <td>0</td>\n",
       "      <td>0.0</td>\n",
       "      <td>0.0</td>\n",
       "      <td>0</td>\n",
       "      <td>0.0</td>\n",
       "      <td>0.0</td>\n",
       "      <td>0</td>\n",
       "      <td>0.0</td>\n",
       "      <td>0.0</td>\n",
       "      <td>0</td>\n",
       "      <td>0</td>\n",
       "      <td>0</td>\n",
       "      <td>0</td>\n",
       "      <td>0</td>\n",
       "      <td>0</td>\n",
       "    </tr>\n",
       "    <tr>\n",
       "      <th>1</th>\n",
       "      <td>2023-04-15</td>\n",
       "      <td>América-MG</td>\n",
       "      <td>1</td>\n",
       "      <td>home_team</td>\n",
       "      <td>1</td>\n",
       "      <td>0</td>\n",
       "      <td>20</td>\n",
       "      <td>10.0</td>\n",
       "      <td>-33.0</td>\n",
       "      <td>0</td>\n",
       "      <td>0.0</td>\n",
       "      <td>0.0</td>\n",
       "      <td>0</td>\n",
       "      <td>0.0</td>\n",
       "      <td>0.0</td>\n",
       "      <td>0</td>\n",
       "      <td>0.0</td>\n",
       "      <td>0.0</td>\n",
       "      <td>0</td>\n",
       "      <td>0</td>\n",
       "      <td>0</td>\n",
       "      <td>0</td>\n",
       "      <td>0</td>\n",
       "      <td>0</td>\n",
       "    </tr>\n",
       "    <tr>\n",
       "      <th>2</th>\n",
       "      <td>2023-04-16</td>\n",
       "      <td>Flamengo</td>\n",
       "      <td>1</td>\n",
       "      <td>home_team</td>\n",
       "      <td>2</td>\n",
       "      <td>3</td>\n",
       "      <td>4</td>\n",
       "      <td>5.0</td>\n",
       "      <td>-33.0</td>\n",
       "      <td>0</td>\n",
       "      <td>0.0</td>\n",
       "      <td>0.0</td>\n",
       "      <td>0</td>\n",
       "      <td>0.0</td>\n",
       "      <td>0.0</td>\n",
       "      <td>0</td>\n",
       "      <td>0.0</td>\n",
       "      <td>0.0</td>\n",
       "      <td>0</td>\n",
       "      <td>0</td>\n",
       "      <td>0</td>\n",
       "      <td>0</td>\n",
       "      <td>0</td>\n",
       "      <td>0</td>\n",
       "    </tr>\n",
       "    <tr>\n",
       "      <th>3</th>\n",
       "      <td>2023-04-16</td>\n",
       "      <td>Vasco da Gama</td>\n",
       "      <td>1</td>\n",
       "      <td>away_team</td>\n",
       "      <td>1</td>\n",
       "      <td>3</td>\n",
       "      <td>15</td>\n",
       "      <td>-33.0</td>\n",
       "      <td>-33.0</td>\n",
       "      <td>0</td>\n",
       "      <td>0.0</td>\n",
       "      <td>0.0</td>\n",
       "      <td>0</td>\n",
       "      <td>0.0</td>\n",
       "      <td>0.0</td>\n",
       "      <td>0</td>\n",
       "      <td>0.0</td>\n",
       "      <td>0.0</td>\n",
       "      <td>0</td>\n",
       "      <td>0</td>\n",
       "      <td>0</td>\n",
       "      <td>0</td>\n",
       "      <td>0</td>\n",
       "      <td>0</td>\n",
       "    </tr>\n",
       "    <tr>\n",
       "      <th>4</th>\n",
       "      <td>2023-04-22</td>\n",
       "      <td>América-MG</td>\n",
       "      <td>2</td>\n",
       "      <td>away_team</td>\n",
       "      <td>2</td>\n",
       "      <td>0</td>\n",
       "      <td>20</td>\n",
       "      <td>10.0</td>\n",
       "      <td>7.0</td>\n",
       "      <td>0</td>\n",
       "      <td>0.0</td>\n",
       "      <td>0.0</td>\n",
       "      <td>0</td>\n",
       "      <td>0.0</td>\n",
       "      <td>0.0</td>\n",
       "      <td>3</td>\n",
       "      <td>1.0</td>\n",
       "      <td>3.0</td>\n",
       "      <td>0</td>\n",
       "      <td>0</td>\n",
       "      <td>1</td>\n",
       "      <td>0</td>\n",
       "      <td>1</td>\n",
       "      <td>0</td>\n",
       "    </tr>\n",
       "  </tbody>\n",
       "</table>\n",
       "</div>"
      ],
      "text/plain": [
       "         data           time  rodada  team_type  winner  match_points  rank  \\\n",
       "0  2023-04-15      Palmeiras       1  home_team       2             3     1   \n",
       "1  2023-04-15     América-MG       1  home_team       1             0    20   \n",
       "2  2023-04-16       Flamengo       1  home_team       2             3     4   \n",
       "3  2023-04-16  Vasco da Gama       1  away_team       1             3    15   \n",
       "4  2023-04-22     América-MG       2  away_team       2             0    20   \n",
       "\n",
       "   ls_rank  days_ls_match  points  l_points  l_wavg_points  goals  l_goals  \\\n",
       "0      1.0          -33.0       0       0.0            0.0      0      0.0   \n",
       "1     10.0          -33.0       0       0.0            0.0      0      0.0   \n",
       "2      5.0          -33.0       0       0.0            0.0      0      0.0   \n",
       "3    -33.0          -33.0       0       0.0            0.0      0      0.0   \n",
       "4     10.0            7.0       0       0.0            0.0      0      0.0   \n",
       "\n",
       "   l_wavg_goals  goals_sf  l_goals_sf  l_wavg_goals_sf  wins  draws  losses  \\\n",
       "0           0.0         0         0.0              0.0     0      0       0   \n",
       "1           0.0         0         0.0              0.0     0      0       0   \n",
       "2           0.0         0         0.0              0.0     0      0       0   \n",
       "3           0.0         0         0.0              0.0     0      0       0   \n",
       "4           0.0         3         1.0              3.0     0      0       1   \n",
       "\n",
       "   win_streak  loss_streak  draw_streak  \n",
       "0           0            0            0  \n",
       "1           0            0            0  \n",
       "2           0            0            0  \n",
       "3           0            0            0  \n",
       "4           0            1            0  "
      ]
     },
     "execution_count": 236,
     "metadata": {},
     "output_type": "execute_result"
    }
   ],
   "source": [
    "# Quero um gráfico que mostre o desempenho de todos os times ou de 2 times durante uma temporada\n",
    "from random import choice\n",
    "\n",
    "data = df.copy()\n",
    "\n",
    "data = data[data['season']==2023]\n",
    "\n",
    "data.sort_values(by='date', inplace=True)\n",
    "\n",
    "data.rename(columns={'h_match_points':'ht_match_points',\n",
    " 'a_match_points':'at_match_points'}, inplace=True)\n",
    "\n",
    "list_times = ['Vasco da Gama', \n",
    "              'Flamengo', \n",
    "              'Palmeiras',\n",
    "              'América-MG']\n",
    "\n",
    "def data_columns(data:pd.DataFrame, prefix:str):\n",
    "    some_column = data.filter(regex=f'^{prefix}', axis=1).columns\n",
    "    rename_columns = {column:column.replace(prefix, '') for column in some_column}\n",
    "    dict_some_dados = {rename_columns[row_column]:row[row_column] for row_column in row[some_column].to_dict()}\n",
    "    return dict_some_dados\n",
    "\n",
    "list_jogos = []\n",
    "for i, row in data.iterrows():\n",
    "    for team_type in row.index[row.isin(list_times)]:\n",
    "        if 'home_team' in team_type:\n",
    "            dict_some_dados = data_columns(data=data, prefix='ht_')\n",
    "        \n",
    "        elif 'away_team' in team_type:\n",
    "            dict_some_dados = data_columns(data=data, prefix='at_')\n",
    "\n",
    "        else: \n",
    "            continue\n",
    "\n",
    "        dict_dados =  {'data':row['date'],\n",
    "                        'time':row[team_type], \n",
    "                        'rodada':row['rodada'], \n",
    "                        'team_type':team_type, \n",
    "                        'winner':row['winner']}\n",
    "        \n",
    "        dict_dados.update(dict_some_dados)\n",
    "\n",
    "        list_jogos.append(dict_dados)\n",
    "        #break\n",
    "\n",
    "df_only_team_in_row = pd.DataFrame(list_jogos)\n",
    "\n",
    "df_only_team_in_row.head()"
   ]
  },
  {
   "cell_type": "markdown",
   "metadata": {},
   "source": [
    "---"
   ]
  },
  {
   "cell_type": "code",
   "execution_count": 159,
   "metadata": {},
   "outputs": [],
   "source": []
  },
  {
   "cell_type": "code",
   "execution_count": 242,
   "metadata": {},
   "outputs": [
    {
     "data": {
      "application/vnd.plotly.v1+json": {
       "config": {
        "plotlyServerURL": "https://plot.ly"
       },
       "data": [
        {
         "hovertemplate": "rank=1<br>points=%{x}<br>rodada=%{y}<extra></extra>",
         "legendgroup": "1",
         "line": {
          "color": "#636efa",
          "dash": "solid"
         },
         "marker": {
          "symbol": "circle"
         },
         "mode": "lines",
         "name": "1",
         "orientation": "v",
         "showlegend": true,
         "type": "scatter",
         "x": [
          0,
          3,
          4,
          7,
          10,
          13,
          14,
          15,
          16,
          19,
          22,
          22,
          22,
          23,
          24,
          25,
          28,
          31,
          31,
          34,
          37,
          40,
          41,
          44,
          44,
          44,
          44,
          44,
          47,
          50,
          53,
          56,
          59,
          59,
          62,
          63,
          66,
          69
         ],
         "xaxis": "x",
         "y": [
          1,
          2,
          3,
          4,
          5,
          6,
          7,
          8,
          9,
          10,
          11,
          12,
          13,
          14,
          15,
          16,
          17,
          18,
          19,
          20,
          21,
          22,
          23,
          24,
          25,
          26,
          27,
          28,
          29,
          30,
          31,
          32,
          33,
          34,
          35,
          36,
          37,
          38
         ],
         "yaxis": "y"
        },
        {
         "hovertemplate": "rank=20<br>points=%{x}<br>rodada=%{y}<extra></extra>",
         "legendgroup": "20",
         "line": {
          "color": "#EF553B",
          "dash": "solid"
         },
         "marker": {
          "symbol": "circle"
         },
         "mode": "lines",
         "name": "20",
         "orientation": "v",
         "showlegend": true,
         "type": "scatter",
         "x": [
          0,
          0,
          0,
          0,
          0,
          1,
          1,
          4,
          4,
          7,
          8,
          8,
          8,
          9,
          9,
          10,
          10,
          10,
          10,
          10,
          13,
          16,
          17,
          17,
          17,
          18,
          18,
          18,
          19,
          19,
          19,
          20,
          21,
          21,
          21,
          21,
          21,
          24
         ],
         "xaxis": "x",
         "y": [
          1,
          2,
          3,
          4,
          5,
          6,
          7,
          8,
          9,
          10,
          11,
          12,
          13,
          14,
          16,
          17,
          18,
          19,
          20,
          21,
          22,
          23,
          24,
          15,
          25,
          26,
          27,
          28,
          29,
          30,
          31,
          32,
          33,
          34,
          35,
          36,
          37,
          38
         ],
         "yaxis": "y"
        },
        {
         "hovertemplate": "rank=4<br>points=%{x}<br>rodada=%{y}<extra></extra>",
         "legendgroup": "4",
         "line": {
          "color": "#00cc96",
          "dash": "solid"
         },
         "marker": {
          "symbol": "circle"
         },
         "mode": "lines",
         "name": "4",
         "orientation": "v",
         "showlegend": true,
         "type": "scatter",
         "x": [
          0,
          3,
          3,
          3,
          3,
          6,
          9,
          12,
          13,
          16,
          19,
          19,
          22,
          25,
          26,
          27,
          28,
          31,
          31,
          32,
          35,
          36,
          39,
          39,
          40,
          43,
          44,
          47,
          50,
          50,
          50,
          53,
          56,
          57,
          60,
          63,
          63,
          66
         ],
         "xaxis": "x",
         "y": [
          1,
          2,
          3,
          4,
          5,
          6,
          7,
          8,
          9,
          10,
          11,
          12,
          13,
          14,
          15,
          16,
          17,
          18,
          19,
          20,
          21,
          22,
          23,
          24,
          25,
          26,
          27,
          28,
          29,
          31,
          32,
          33,
          34,
          30,
          35,
          36,
          37,
          38
         ],
         "yaxis": "y"
        },
        {
         "hovertemplate": "rank=15<br>points=%{x}<br>rodada=%{y}<extra></extra>",
         "legendgroup": "15",
         "line": {
          "color": "#ab63fa",
          "dash": "solid"
         },
         "marker": {
          "symbol": "circle"
         },
         "mode": "lines",
         "name": "15",
         "orientation": "v",
         "showlegend": true,
         "type": "scatter",
         "x": [
          0,
          3,
          4,
          4,
          5,
          6,
          6,
          6,
          6,
          6,
          6,
          6,
          9,
          9,
          9,
          9,
          9,
          12,
          13,
          16,
          16,
          17,
          20,
          23,
          26,
          26,
          27,
          30,
          30,
          30,
          31,
          34,
          37,
          40,
          41,
          42,
          42,
          42
         ],
         "xaxis": "x",
         "y": [
          1,
          2,
          3,
          4,
          5,
          6,
          7,
          8,
          9,
          10,
          11,
          12,
          13,
          14,
          16,
          17,
          18,
          19,
          20,
          21,
          22,
          23,
          24,
          15,
          25,
          26,
          27,
          28,
          29,
          30,
          31,
          32,
          34,
          33,
          35,
          36,
          37,
          38
         ],
         "yaxis": "y"
        }
       ],
       "layout": {
        "legend": {
         "title": {
          "text": "rank"
         },
         "tracegroupgap": 0
        },
        "margin": {
         "t": 60
        },
        "template": {
         "data": {
          "bar": [
           {
            "error_x": {
             "color": "#2a3f5f"
            },
            "error_y": {
             "color": "#2a3f5f"
            },
            "marker": {
             "line": {
              "color": "#E5ECF6",
              "width": 0.5
             },
             "pattern": {
              "fillmode": "overlay",
              "size": 10,
              "solidity": 0.2
             }
            },
            "type": "bar"
           }
          ],
          "barpolar": [
           {
            "marker": {
             "line": {
              "color": "#E5ECF6",
              "width": 0.5
             },
             "pattern": {
              "fillmode": "overlay",
              "size": 10,
              "solidity": 0.2
             }
            },
            "type": "barpolar"
           }
          ],
          "carpet": [
           {
            "aaxis": {
             "endlinecolor": "#2a3f5f",
             "gridcolor": "white",
             "linecolor": "white",
             "minorgridcolor": "white",
             "startlinecolor": "#2a3f5f"
            },
            "baxis": {
             "endlinecolor": "#2a3f5f",
             "gridcolor": "white",
             "linecolor": "white",
             "minorgridcolor": "white",
             "startlinecolor": "#2a3f5f"
            },
            "type": "carpet"
           }
          ],
          "choropleth": [
           {
            "colorbar": {
             "outlinewidth": 0,
             "ticks": ""
            },
            "type": "choropleth"
           }
          ],
          "contour": [
           {
            "colorbar": {
             "outlinewidth": 0,
             "ticks": ""
            },
            "colorscale": [
             [
              0,
              "#0d0887"
             ],
             [
              0.1111111111111111,
              "#46039f"
             ],
             [
              0.2222222222222222,
              "#7201a8"
             ],
             [
              0.3333333333333333,
              "#9c179e"
             ],
             [
              0.4444444444444444,
              "#bd3786"
             ],
             [
              0.5555555555555556,
              "#d8576b"
             ],
             [
              0.6666666666666666,
              "#ed7953"
             ],
             [
              0.7777777777777778,
              "#fb9f3a"
             ],
             [
              0.8888888888888888,
              "#fdca26"
             ],
             [
              1,
              "#f0f921"
             ]
            ],
            "type": "contour"
           }
          ],
          "contourcarpet": [
           {
            "colorbar": {
             "outlinewidth": 0,
             "ticks": ""
            },
            "type": "contourcarpet"
           }
          ],
          "heatmap": [
           {
            "colorbar": {
             "outlinewidth": 0,
             "ticks": ""
            },
            "colorscale": [
             [
              0,
              "#0d0887"
             ],
             [
              0.1111111111111111,
              "#46039f"
             ],
             [
              0.2222222222222222,
              "#7201a8"
             ],
             [
              0.3333333333333333,
              "#9c179e"
             ],
             [
              0.4444444444444444,
              "#bd3786"
             ],
             [
              0.5555555555555556,
              "#d8576b"
             ],
             [
              0.6666666666666666,
              "#ed7953"
             ],
             [
              0.7777777777777778,
              "#fb9f3a"
             ],
             [
              0.8888888888888888,
              "#fdca26"
             ],
             [
              1,
              "#f0f921"
             ]
            ],
            "type": "heatmap"
           }
          ],
          "heatmapgl": [
           {
            "colorbar": {
             "outlinewidth": 0,
             "ticks": ""
            },
            "colorscale": [
             [
              0,
              "#0d0887"
             ],
             [
              0.1111111111111111,
              "#46039f"
             ],
             [
              0.2222222222222222,
              "#7201a8"
             ],
             [
              0.3333333333333333,
              "#9c179e"
             ],
             [
              0.4444444444444444,
              "#bd3786"
             ],
             [
              0.5555555555555556,
              "#d8576b"
             ],
             [
              0.6666666666666666,
              "#ed7953"
             ],
             [
              0.7777777777777778,
              "#fb9f3a"
             ],
             [
              0.8888888888888888,
              "#fdca26"
             ],
             [
              1,
              "#f0f921"
             ]
            ],
            "type": "heatmapgl"
           }
          ],
          "histogram": [
           {
            "marker": {
             "pattern": {
              "fillmode": "overlay",
              "size": 10,
              "solidity": 0.2
             }
            },
            "type": "histogram"
           }
          ],
          "histogram2d": [
           {
            "colorbar": {
             "outlinewidth": 0,
             "ticks": ""
            },
            "colorscale": [
             [
              0,
              "#0d0887"
             ],
             [
              0.1111111111111111,
              "#46039f"
             ],
             [
              0.2222222222222222,
              "#7201a8"
             ],
             [
              0.3333333333333333,
              "#9c179e"
             ],
             [
              0.4444444444444444,
              "#bd3786"
             ],
             [
              0.5555555555555556,
              "#d8576b"
             ],
             [
              0.6666666666666666,
              "#ed7953"
             ],
             [
              0.7777777777777778,
              "#fb9f3a"
             ],
             [
              0.8888888888888888,
              "#fdca26"
             ],
             [
              1,
              "#f0f921"
             ]
            ],
            "type": "histogram2d"
           }
          ],
          "histogram2dcontour": [
           {
            "colorbar": {
             "outlinewidth": 0,
             "ticks": ""
            },
            "colorscale": [
             [
              0,
              "#0d0887"
             ],
             [
              0.1111111111111111,
              "#46039f"
             ],
             [
              0.2222222222222222,
              "#7201a8"
             ],
             [
              0.3333333333333333,
              "#9c179e"
             ],
             [
              0.4444444444444444,
              "#bd3786"
             ],
             [
              0.5555555555555556,
              "#d8576b"
             ],
             [
              0.6666666666666666,
              "#ed7953"
             ],
             [
              0.7777777777777778,
              "#fb9f3a"
             ],
             [
              0.8888888888888888,
              "#fdca26"
             ],
             [
              1,
              "#f0f921"
             ]
            ],
            "type": "histogram2dcontour"
           }
          ],
          "mesh3d": [
           {
            "colorbar": {
             "outlinewidth": 0,
             "ticks": ""
            },
            "type": "mesh3d"
           }
          ],
          "parcoords": [
           {
            "line": {
             "colorbar": {
              "outlinewidth": 0,
              "ticks": ""
             }
            },
            "type": "parcoords"
           }
          ],
          "pie": [
           {
            "automargin": true,
            "type": "pie"
           }
          ],
          "scatter": [
           {
            "fillpattern": {
             "fillmode": "overlay",
             "size": 10,
             "solidity": 0.2
            },
            "type": "scatter"
           }
          ],
          "scatter3d": [
           {
            "line": {
             "colorbar": {
              "outlinewidth": 0,
              "ticks": ""
             }
            },
            "marker": {
             "colorbar": {
              "outlinewidth": 0,
              "ticks": ""
             }
            },
            "type": "scatter3d"
           }
          ],
          "scattercarpet": [
           {
            "marker": {
             "colorbar": {
              "outlinewidth": 0,
              "ticks": ""
             }
            },
            "type": "scattercarpet"
           }
          ],
          "scattergeo": [
           {
            "marker": {
             "colorbar": {
              "outlinewidth": 0,
              "ticks": ""
             }
            },
            "type": "scattergeo"
           }
          ],
          "scattergl": [
           {
            "marker": {
             "colorbar": {
              "outlinewidth": 0,
              "ticks": ""
             }
            },
            "type": "scattergl"
           }
          ],
          "scattermapbox": [
           {
            "marker": {
             "colorbar": {
              "outlinewidth": 0,
              "ticks": ""
             }
            },
            "type": "scattermapbox"
           }
          ],
          "scatterpolar": [
           {
            "marker": {
             "colorbar": {
              "outlinewidth": 0,
              "ticks": ""
             }
            },
            "type": "scatterpolar"
           }
          ],
          "scatterpolargl": [
           {
            "marker": {
             "colorbar": {
              "outlinewidth": 0,
              "ticks": ""
             }
            },
            "type": "scatterpolargl"
           }
          ],
          "scatterternary": [
           {
            "marker": {
             "colorbar": {
              "outlinewidth": 0,
              "ticks": ""
             }
            },
            "type": "scatterternary"
           }
          ],
          "surface": [
           {
            "colorbar": {
             "outlinewidth": 0,
             "ticks": ""
            },
            "colorscale": [
             [
              0,
              "#0d0887"
             ],
             [
              0.1111111111111111,
              "#46039f"
             ],
             [
              0.2222222222222222,
              "#7201a8"
             ],
             [
              0.3333333333333333,
              "#9c179e"
             ],
             [
              0.4444444444444444,
              "#bd3786"
             ],
             [
              0.5555555555555556,
              "#d8576b"
             ],
             [
              0.6666666666666666,
              "#ed7953"
             ],
             [
              0.7777777777777778,
              "#fb9f3a"
             ],
             [
              0.8888888888888888,
              "#fdca26"
             ],
             [
              1,
              "#f0f921"
             ]
            ],
            "type": "surface"
           }
          ],
          "table": [
           {
            "cells": {
             "fill": {
              "color": "#EBF0F8"
             },
             "line": {
              "color": "white"
             }
            },
            "header": {
             "fill": {
              "color": "#C8D4E3"
             },
             "line": {
              "color": "white"
             }
            },
            "type": "table"
           }
          ]
         },
         "layout": {
          "annotationdefaults": {
           "arrowcolor": "#2a3f5f",
           "arrowhead": 0,
           "arrowwidth": 1
          },
          "autotypenumbers": "strict",
          "coloraxis": {
           "colorbar": {
            "outlinewidth": 0,
            "ticks": ""
           }
          },
          "colorscale": {
           "diverging": [
            [
             0,
             "#8e0152"
            ],
            [
             0.1,
             "#c51b7d"
            ],
            [
             0.2,
             "#de77ae"
            ],
            [
             0.3,
             "#f1b6da"
            ],
            [
             0.4,
             "#fde0ef"
            ],
            [
             0.5,
             "#f7f7f7"
            ],
            [
             0.6,
             "#e6f5d0"
            ],
            [
             0.7,
             "#b8e186"
            ],
            [
             0.8,
             "#7fbc41"
            ],
            [
             0.9,
             "#4d9221"
            ],
            [
             1,
             "#276419"
            ]
           ],
           "sequential": [
            [
             0,
             "#0d0887"
            ],
            [
             0.1111111111111111,
             "#46039f"
            ],
            [
             0.2222222222222222,
             "#7201a8"
            ],
            [
             0.3333333333333333,
             "#9c179e"
            ],
            [
             0.4444444444444444,
             "#bd3786"
            ],
            [
             0.5555555555555556,
             "#d8576b"
            ],
            [
             0.6666666666666666,
             "#ed7953"
            ],
            [
             0.7777777777777778,
             "#fb9f3a"
            ],
            [
             0.8888888888888888,
             "#fdca26"
            ],
            [
             1,
             "#f0f921"
            ]
           ],
           "sequentialminus": [
            [
             0,
             "#0d0887"
            ],
            [
             0.1111111111111111,
             "#46039f"
            ],
            [
             0.2222222222222222,
             "#7201a8"
            ],
            [
             0.3333333333333333,
             "#9c179e"
            ],
            [
             0.4444444444444444,
             "#bd3786"
            ],
            [
             0.5555555555555556,
             "#d8576b"
            ],
            [
             0.6666666666666666,
             "#ed7953"
            ],
            [
             0.7777777777777778,
             "#fb9f3a"
            ],
            [
             0.8888888888888888,
             "#fdca26"
            ],
            [
             1,
             "#f0f921"
            ]
           ]
          },
          "colorway": [
           "#636efa",
           "#EF553B",
           "#00cc96",
           "#ab63fa",
           "#FFA15A",
           "#19d3f3",
           "#FF6692",
           "#B6E880",
           "#FF97FF",
           "#FECB52"
          ],
          "font": {
           "color": "#2a3f5f"
          },
          "geo": {
           "bgcolor": "white",
           "lakecolor": "white",
           "landcolor": "#E5ECF6",
           "showlakes": true,
           "showland": true,
           "subunitcolor": "white"
          },
          "hoverlabel": {
           "align": "left"
          },
          "hovermode": "closest",
          "mapbox": {
           "style": "light"
          },
          "paper_bgcolor": "white",
          "plot_bgcolor": "#E5ECF6",
          "polar": {
           "angularaxis": {
            "gridcolor": "white",
            "linecolor": "white",
            "ticks": ""
           },
           "bgcolor": "#E5ECF6",
           "radialaxis": {
            "gridcolor": "white",
            "linecolor": "white",
            "ticks": ""
           }
          },
          "scene": {
           "xaxis": {
            "backgroundcolor": "#E5ECF6",
            "gridcolor": "white",
            "gridwidth": 2,
            "linecolor": "white",
            "showbackground": true,
            "ticks": "",
            "zerolinecolor": "white"
           },
           "yaxis": {
            "backgroundcolor": "#E5ECF6",
            "gridcolor": "white",
            "gridwidth": 2,
            "linecolor": "white",
            "showbackground": true,
            "ticks": "",
            "zerolinecolor": "white"
           },
           "zaxis": {
            "backgroundcolor": "#E5ECF6",
            "gridcolor": "white",
            "gridwidth": 2,
            "linecolor": "white",
            "showbackground": true,
            "ticks": "",
            "zerolinecolor": "white"
           }
          },
          "shapedefaults": {
           "line": {
            "color": "#2a3f5f"
           }
          },
          "ternary": {
           "aaxis": {
            "gridcolor": "white",
            "linecolor": "white",
            "ticks": ""
           },
           "baxis": {
            "gridcolor": "white",
            "linecolor": "white",
            "ticks": ""
           },
           "bgcolor": "#E5ECF6",
           "caxis": {
            "gridcolor": "white",
            "linecolor": "white",
            "ticks": ""
           }
          },
          "title": {
           "x": 0.05
          },
          "xaxis": {
           "automargin": true,
           "gridcolor": "white",
           "linecolor": "white",
           "ticks": "",
           "title": {
            "standoff": 15
           },
           "zerolinecolor": "white",
           "zerolinewidth": 2
          },
          "yaxis": {
           "automargin": true,
           "gridcolor": "white",
           "linecolor": "white",
           "ticks": "",
           "title": {
            "standoff": 15
           },
           "zerolinecolor": "white",
           "zerolinewidth": 2
          }
         }
        },
        "xaxis": {
         "anchor": "y",
         "domain": [
          0,
          1
         ],
         "title": {
          "text": "points"
         }
        },
        "yaxis": {
         "anchor": "x",
         "domain": [
          0,
          1
         ],
         "title": {
          "text": "rodada"
         }
        }
       }
      }
     },
     "metadata": {},
     "output_type": "display_data"
    }
   ],
   "source": [
    "import plotly.express as px\n",
    "#fig = px.scatter(df, x=\"at_win_streak\", y=\"ht_wins\", color=\"ht_points\")\n",
    "fig = px.line(df_only_team_in_row, x=\"points\", y=\"rodada\", color=\"rank\", )\n",
    "fig.show()\n"
   ]
  },
  {
   "cell_type": "code",
   "execution_count": 17,
   "metadata": {},
   "outputs": [],
   "source": []
  },
  {
   "cell_type": "code",
   "execution_count": 18,
   "metadata": {},
   "outputs": [],
   "source": [
    "from bokeh.plotting import figure, output_file, show\n",
    "p = figure()\n",
    "\n",
    "data\n",
    "x = data['at_draws']\n",
    "y = data['at_rank']\n",
    "\n",
    "p.line(x, y)\n",
    "show(p)\n"
   ]
  },
  {
   "cell_type": "code",
   "execution_count": 20,
   "metadata": {},
   "outputs": [
    {
     "ename": "MaxRowsError",
     "evalue": "The number of rows in your dataset is greater than the maximum allowed (5000).\n\nTry enabling the VegaFusion data transformer which raises this limit by pre-evaluating data\ntransformations in Python.\n    >> import altair as alt\n    >> alt.data_transformers.enable(\"vegafusion\")\n\nOr, see https://altair-viz.github.io/user_guide/large_datasets.html for additional information\non how to plot large datasets.",
     "output_type": "error",
     "traceback": [
      "\u001b[0;31m---------------------------------------------------------------------------\u001b[0m",
      "\u001b[0;31mMaxRowsError\u001b[0m                              Traceback (most recent call last)",
      "File \u001b[0;32m/media/guilherme/ssd_m2_data/My_projects/Jogos/bet-soccer/venv/lib/python3.10/site-packages/altair/vegalite/v5/api.py:3778\u001b[0m, in \u001b[0;36mChart.to_dict\u001b[0;34m(self, validate, format, ignore, context)\u001b[0m\n\u001b[1;32m   3776\u001b[0m     copy\u001b[38;5;241m.\u001b[39mdata \u001b[38;5;241m=\u001b[39m core\u001b[38;5;241m.\u001b[39mInlineData(values\u001b[38;5;241m=\u001b[39m[{}])\n\u001b[1;32m   3777\u001b[0m     \u001b[38;5;28;01mreturn\u001b[39;00m \u001b[38;5;28msuper\u001b[39m(Chart, copy)\u001b[38;5;241m.\u001b[39mto_dict(\u001b[38;5;241m*\u001b[39m\u001b[38;5;241m*\u001b[39mkwds)\n\u001b[0;32m-> 3778\u001b[0m \u001b[38;5;28;01mreturn\u001b[39;00m \u001b[38;5;28;43msuper\u001b[39;49m\u001b[43m(\u001b[49m\u001b[43m)\u001b[49m\u001b[38;5;241;43m.\u001b[39;49m\u001b[43mto_dict\u001b[49m\u001b[43m(\u001b[49m\u001b[38;5;241;43m*\u001b[39;49m\u001b[38;5;241;43m*\u001b[39;49m\u001b[43mkwds\u001b[49m\u001b[43m)\u001b[49m\n",
      "File \u001b[0;32m/media/guilherme/ssd_m2_data/My_projects/Jogos/bet-soccer/venv/lib/python3.10/site-packages/altair/vegalite/v5/api.py:1804\u001b[0m, in \u001b[0;36mTopLevelMixin.to_dict\u001b[0;34m(self, validate, format, ignore, context)\u001b[0m\n\u001b[1;32m   1801\u001b[0m     \u001b[38;5;28;01mexcept\u001b[39;00m \u001b[38;5;167;01mTypeError\u001b[39;00m:\n\u001b[1;32m   1802\u001b[0m         \u001b[38;5;66;03m# Non-narwhalifiable type supported by Altair, such as dict\u001b[39;00m\n\u001b[1;32m   1803\u001b[0m         data \u001b[38;5;241m=\u001b[39m original_data\n\u001b[0;32m-> 1804\u001b[0m     copy\u001b[38;5;241m.\u001b[39mdata \u001b[38;5;241m=\u001b[39m \u001b[43m_prepare_data\u001b[49m\u001b[43m(\u001b[49m\u001b[43mdata\u001b[49m\u001b[43m,\u001b[49m\u001b[43m \u001b[49m\u001b[43mcontext\u001b[49m\u001b[43m)\u001b[49m\n\u001b[1;32m   1805\u001b[0m     context[\u001b[38;5;124m\"\u001b[39m\u001b[38;5;124mdata\u001b[39m\u001b[38;5;124m\"\u001b[39m] \u001b[38;5;241m=\u001b[39m data\n\u001b[1;32m   1807\u001b[0m \u001b[38;5;66;03m# remaining to_dict calls are not at top level\u001b[39;00m\n",
      "File \u001b[0;32m/media/guilherme/ssd_m2_data/My_projects/Jogos/bet-soccer/venv/lib/python3.10/site-packages/altair/vegalite/v5/api.py:278\u001b[0m, in \u001b[0;36m_prepare_data\u001b[0;34m(data, context)\u001b[0m\n\u001b[1;32m    276\u001b[0m \u001b[38;5;28;01melif\u001b[39;00m \u001b[38;5;129;01mnot\u001b[39;00m \u001b[38;5;28misinstance\u001b[39m(data, \u001b[38;5;28mdict\u001b[39m) \u001b[38;5;129;01mand\u001b[39;00m _is_data_type(data):\n\u001b[1;32m    277\u001b[0m     \u001b[38;5;28;01mif\u001b[39;00m func \u001b[38;5;241m:=\u001b[39m data_transformers\u001b[38;5;241m.\u001b[39mget():\n\u001b[0;32m--> 278\u001b[0m         data \u001b[38;5;241m=\u001b[39m \u001b[43mfunc\u001b[49m\u001b[43m(\u001b[49m\u001b[43mnw\u001b[49m\u001b[38;5;241;43m.\u001b[39;49m\u001b[43mto_native\u001b[49m\u001b[43m(\u001b[49m\u001b[43mdata\u001b[49m\u001b[43m,\u001b[49m\u001b[43m \u001b[49m\u001b[43mstrict\u001b[49m\u001b[38;5;241;43m=\u001b[39;49m\u001b[38;5;28;43;01mFalse\u001b[39;49;00m\u001b[43m)\u001b[49m\u001b[43m)\u001b[49m\n\u001b[1;32m    280\u001b[0m \u001b[38;5;66;03m# convert string input to a URLData\u001b[39;00m\n\u001b[1;32m    281\u001b[0m \u001b[38;5;28;01melif\u001b[39;00m \u001b[38;5;28misinstance\u001b[39m(data, \u001b[38;5;28mstr\u001b[39m):\n",
      "File \u001b[0;32m/media/guilherme/ssd_m2_data/My_projects/Jogos/bet-soccer/venv/lib/python3.10/site-packages/altair/vegalite/data.py:42\u001b[0m, in \u001b[0;36mdefault_data_transformer\u001b[0;34m(data, max_rows)\u001b[0m\n\u001b[1;32m     39\u001b[0m     \u001b[38;5;28;01mreturn\u001b[39;00m pipe\n\u001b[1;32m     41\u001b[0m \u001b[38;5;28;01melse\u001b[39;00m:\n\u001b[0;32m---> 42\u001b[0m     \u001b[38;5;28;01mreturn\u001b[39;00m to_values(\u001b[43mlimit_rows\u001b[49m\u001b[43m(\u001b[49m\u001b[43mdata\u001b[49m\u001b[43m,\u001b[49m\u001b[43m \u001b[49m\u001b[43mmax_rows\u001b[49m\u001b[38;5;241;43m=\u001b[39;49m\u001b[43mmax_rows\u001b[49m\u001b[43m)\u001b[49m)\n",
      "File \u001b[0;32m/media/guilherme/ssd_m2_data/My_projects/Jogos/bet-soccer/venv/lib/python3.10/site-packages/altair/utils/data.py:157\u001b[0m, in \u001b[0;36mlimit_rows\u001b[0;34m(data, max_rows)\u001b[0m\n\u001b[1;32m    154\u001b[0m     values \u001b[38;5;241m=\u001b[39m data\n\u001b[1;32m    156\u001b[0m \u001b[38;5;28;01mif\u001b[39;00m max_rows \u001b[38;5;129;01mis\u001b[39;00m \u001b[38;5;129;01mnot\u001b[39;00m \u001b[38;5;28;01mNone\u001b[39;00m \u001b[38;5;129;01mand\u001b[39;00m \u001b[38;5;28mlen\u001b[39m(values) \u001b[38;5;241m>\u001b[39m max_rows:\n\u001b[0;32m--> 157\u001b[0m     \u001b[43mraise_max_rows_error\u001b[49m\u001b[43m(\u001b[49m\u001b[43m)\u001b[49m\n\u001b[1;32m    159\u001b[0m \u001b[38;5;28;01mreturn\u001b[39;00m data\n",
      "File \u001b[0;32m/media/guilherme/ssd_m2_data/My_projects/Jogos/bet-soccer/venv/lib/python3.10/site-packages/altair/utils/data.py:140\u001b[0m, in \u001b[0;36mlimit_rows.<locals>.raise_max_rows_error\u001b[0;34m()\u001b[0m\n\u001b[1;32m    127\u001b[0m \u001b[38;5;28;01mdef\u001b[39;00m \u001b[38;5;21mraise_max_rows_error\u001b[39m():\n\u001b[1;32m    128\u001b[0m     msg \u001b[38;5;241m=\u001b[39m (\n\u001b[1;32m    129\u001b[0m         \u001b[38;5;124m\"\u001b[39m\u001b[38;5;124mThe number of rows in your dataset is greater \u001b[39m\u001b[38;5;124m\"\u001b[39m\n\u001b[1;32m    130\u001b[0m         \u001b[38;5;124mf\u001b[39m\u001b[38;5;124m\"\u001b[39m\u001b[38;5;124mthan the maximum allowed (\u001b[39m\u001b[38;5;132;01m{\u001b[39;00mmax_rows\u001b[38;5;132;01m}\u001b[39;00m\u001b[38;5;124m).\u001b[39m\u001b[38;5;130;01m\\n\u001b[39;00m\u001b[38;5;130;01m\\n\u001b[39;00m\u001b[38;5;124m\"\u001b[39m\n\u001b[0;32m   (...)\u001b[0m\n\u001b[1;32m    138\u001b[0m         \u001b[38;5;124m\"\u001b[39m\u001b[38;5;124mon how to plot large datasets.\u001b[39m\u001b[38;5;124m\"\u001b[39m\n\u001b[1;32m    139\u001b[0m     )\n\u001b[0;32m--> 140\u001b[0m     \u001b[38;5;28;01mraise\u001b[39;00m MaxRowsError(msg)\n",
      "\u001b[0;31mMaxRowsError\u001b[0m: The number of rows in your dataset is greater than the maximum allowed (5000).\n\nTry enabling the VegaFusion data transformer which raises this limit by pre-evaluating data\ntransformations in Python.\n    >> import altair as alt\n    >> alt.data_transformers.enable(\"vegafusion\")\n\nOr, see https://altair-viz.github.io/user_guide/large_datasets.html for additional information\non how to plot large datasets."
     ]
    },
    {
     "data": {
      "text/plain": [
       "alt.Chart(...)"
      ]
     },
     "metadata": {},
     "output_type": "display_data"
    }
   ],
   "source": [
    "import altair as alt\n",
    "chart = alt.Chart(df).mark_point().encode(\n",
    "    x='ht_points',\n",
    "    y='at_wins',\n",
    "    color='ht_rank'\n",
    ")\n",
    "chart.show()\n"
   ]
  }
 ],
 "metadata": {
  "kernelspec": {
   "display_name": "venv",
   "language": "python",
   "name": "python3"
  },
  "language_info": {
   "codemirror_mode": {
    "name": "ipython",
    "version": 3
   },
   "file_extension": ".py",
   "mimetype": "text/x-python",
   "name": "python",
   "nbconvert_exporter": "python",
   "pygments_lexer": "ipython3",
   "version": "3.10.15"
  }
 },
 "nbformat": 4,
 "nbformat_minor": 2
}
