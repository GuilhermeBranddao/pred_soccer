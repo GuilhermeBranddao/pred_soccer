{
 "cells": [
  {
   "cell_type": "code",
   "execution_count": 2,
   "metadata": {},
   "outputs": [
    {
     "ename": "MemoryError",
     "evalue": "Unable to allocate 74.5 GiB for an array with shape (10000, 1000, 1000) and data type float64",
     "output_type": "error",
     "traceback": [
      "\u001b[0;31m---------------------------------------------------------------------------\u001b[0m",
      "\u001b[0;31mMemoryError\u001b[0m                               Traceback (most recent call last)",
      "Cell \u001b[0;32mIn[2], line 3\u001b[0m\n\u001b[1;32m      1\u001b[0m \u001b[38;5;28;01mimport\u001b[39;00m \u001b[38;5;21;01mnumpy\u001b[39;00m \u001b[38;5;28;01mas\u001b[39;00m \u001b[38;5;21;01mnp\u001b[39;00m\n\u001b[0;32m----> 3\u001b[0m imagens \u001b[38;5;241m=\u001b[39m \u001b[43mnp\u001b[49m\u001b[38;5;241;43m.\u001b[39;49m\u001b[43mones\u001b[49m\u001b[43m(\u001b[49m\u001b[43m(\u001b[49m\u001b[38;5;241;43m10000\u001b[39;49m\u001b[43m,\u001b[49m\u001b[43m \u001b[49m\u001b[38;5;241;43m1000\u001b[39;49m\u001b[43m,\u001b[49m\u001b[43m \u001b[49m\u001b[38;5;241;43m1000\u001b[39;49m\u001b[43m)\u001b[49m\u001b[43m)\u001b[49m\n",
      "File \u001b[0;32m~/.cache/pypoetry/virtualenvs/pred-soccer-Ppg3ABQz-py3.12/lib/python3.12/site-packages/numpy/_core/numeric.py:199\u001b[0m, in \u001b[0;36mones\u001b[0;34m(shape, dtype, order, device, like)\u001b[0m\n\u001b[1;32m    194\u001b[0m \u001b[38;5;28;01mif\u001b[39;00m like \u001b[38;5;129;01mis\u001b[39;00m \u001b[38;5;129;01mnot\u001b[39;00m \u001b[38;5;28;01mNone\u001b[39;00m:\n\u001b[1;32m    195\u001b[0m     \u001b[38;5;28;01mreturn\u001b[39;00m _ones_with_like(\n\u001b[1;32m    196\u001b[0m         like, shape, dtype\u001b[38;5;241m=\u001b[39mdtype, order\u001b[38;5;241m=\u001b[39morder, device\u001b[38;5;241m=\u001b[39mdevice\n\u001b[1;32m    197\u001b[0m     )\n\u001b[0;32m--> 199\u001b[0m a \u001b[38;5;241m=\u001b[39m \u001b[43mempty\u001b[49m\u001b[43m(\u001b[49m\u001b[43mshape\u001b[49m\u001b[43m,\u001b[49m\u001b[43m \u001b[49m\u001b[43mdtype\u001b[49m\u001b[43m,\u001b[49m\u001b[43m \u001b[49m\u001b[43morder\u001b[49m\u001b[43m,\u001b[49m\u001b[43m \u001b[49m\u001b[43mdevice\u001b[49m\u001b[38;5;241;43m=\u001b[39;49m\u001b[43mdevice\u001b[49m\u001b[43m)\u001b[49m\n\u001b[1;32m    200\u001b[0m multiarray\u001b[38;5;241m.\u001b[39mcopyto(a, \u001b[38;5;241m1\u001b[39m, casting\u001b[38;5;241m=\u001b[39m\u001b[38;5;124m'\u001b[39m\u001b[38;5;124munsafe\u001b[39m\u001b[38;5;124m'\u001b[39m)\n\u001b[1;32m    201\u001b[0m \u001b[38;5;28;01mreturn\u001b[39;00m a\n",
      "\u001b[0;31mMemoryError\u001b[0m: Unable to allocate 74.5 GiB for an array with shape (10000, 1000, 1000) and data type float64"
     ]
    }
   ],
   "source": [
    "import numpy as np\n",
    "\n",
    "imagens = np.ones((10000, 1000, 1000))\n"
   ]
  },
  {
   "cell_type": "code",
   "execution_count": null,
   "metadata": {},
   "outputs": [],
   "source": [
    "import dask.array as da\n",
    "\n",
    "imagens = da.ones((10000, 1000, 1000))\n"
   ]
  },
  {
   "cell_type": "code",
   "execution_count": 8,
   "metadata": {},
   "outputs": [
    {
     "ename": "AttributeError",
     "evalue": "'NoneType' object has no attribute 'render'",
     "output_type": "error",
     "traceback": [
      "\u001b[0;31m---------------------------------------------------------------------------\u001b[0m",
      "\u001b[0;31mAttributeError\u001b[0m                            Traceback (most recent call last)",
      "File \u001b[0;32m~/.cache/pypoetry/virtualenvs/pred-soccer-Ppg3ABQz-py3.12/lib/python3.12/site-packages/IPython/core/formatters.py:406\u001b[0m, in \u001b[0;36mBaseFormatter.__call__\u001b[0;34m(self, obj)\u001b[0m\n\u001b[1;32m    404\u001b[0m     method \u001b[38;5;241m=\u001b[39m get_real_method(obj, \u001b[38;5;28mself\u001b[39m\u001b[38;5;241m.\u001b[39mprint_method)\n\u001b[1;32m    405\u001b[0m     \u001b[38;5;28;01mif\u001b[39;00m method \u001b[38;5;129;01mis\u001b[39;00m \u001b[38;5;129;01mnot\u001b[39;00m \u001b[38;5;28;01mNone\u001b[39;00m:\n\u001b[0;32m--> 406\u001b[0m         \u001b[38;5;28;01mreturn\u001b[39;00m \u001b[43mmethod\u001b[49m\u001b[43m(\u001b[49m\u001b[43m)\u001b[49m\n\u001b[1;32m    407\u001b[0m     \u001b[38;5;28;01mreturn\u001b[39;00m \u001b[38;5;28;01mNone\u001b[39;00m\n\u001b[1;32m    408\u001b[0m \u001b[38;5;28;01melse\u001b[39;00m:\n",
      "File \u001b[0;32m~/.cache/pypoetry/virtualenvs/pred-soccer-Ppg3ABQz-py3.12/lib/python3.12/site-packages/dask/array/core.py:1677\u001b[0m, in \u001b[0;36mArray._repr_html_\u001b[0;34m(self)\u001b[0m\n\u001b[1;32m   1674\u001b[0m     nbytes \u001b[38;5;241m=\u001b[39m \u001b[38;5;124m\"\u001b[39m\u001b[38;5;124munknown\u001b[39m\u001b[38;5;124m\"\u001b[39m\n\u001b[1;32m   1675\u001b[0m     cbytes \u001b[38;5;241m=\u001b[39m \u001b[38;5;124m\"\u001b[39m\u001b[38;5;124munknown\u001b[39m\u001b[38;5;124m\"\u001b[39m\n\u001b[0;32m-> 1677\u001b[0m \u001b[38;5;28;01mreturn\u001b[39;00m \u001b[43mARRAY_TEMPLATE\u001b[49m\u001b[38;5;241;43m.\u001b[39;49m\u001b[43mrender\u001b[49m(\n\u001b[1;32m   1678\u001b[0m     array\u001b[38;5;241m=\u001b[39m\u001b[38;5;28mself\u001b[39m,\n\u001b[1;32m   1679\u001b[0m     grid\u001b[38;5;241m=\u001b[39mgrid,\n\u001b[1;32m   1680\u001b[0m     nbytes\u001b[38;5;241m=\u001b[39mnbytes,\n\u001b[1;32m   1681\u001b[0m     cbytes\u001b[38;5;241m=\u001b[39mcbytes,\n\u001b[1;32m   1682\u001b[0m     layers\u001b[38;5;241m=\u001b[39mmaybe_pluralize(\u001b[38;5;28mlen\u001b[39m(\u001b[38;5;28mself\u001b[39m\u001b[38;5;241m.\u001b[39mdask\u001b[38;5;241m.\u001b[39mlayers), \u001b[38;5;124m\"\u001b[39m\u001b[38;5;124mgraph layer\u001b[39m\u001b[38;5;124m\"\u001b[39m),\n\u001b[1;32m   1683\u001b[0m )\n",
      "\u001b[0;31mAttributeError\u001b[0m: 'NoneType' object has no attribute 'render'"
     ]
    },
    {
     "data": {
      "text/plain": [
       "dask.array<ones_like, shape=(1000, 1000, 1000), dtype=float64, chunksize=(255, 255, 255), chunktype=numpy.ndarray>"
      ]
     },
     "execution_count": 8,
     "metadata": {},
     "output_type": "execute_result"
    }
   ],
   "source": [
    "imagens"
   ]
  },
  {
   "cell_type": "code",
   "execution_count": null,
   "metadata": {},
   "outputs": [],
   "source": [
    "# Threads Locais: escolha padrão para Dask Array, Dask DataFrame e Dask Delayed\n",
    "import dask\n",
    "dask.config.set(scheduler=\"threads\")"
   ]
  },
  {
   "cell_type": "code",
   "execution_count": null,
   "metadata": {},
   "outputs": [],
   "source": [
    "# Única Thread: Execução em uma única thread sem paralelismo (debugging)\n",
    "import dask\n",
    "dask.config.set(scheduler=\"synchronous\")\n"
   ]
  },
  {
   "cell_type": "code",
   "execution_count": null,
   "metadata": {},
   "outputs": [],
   "source": [
    "# Dask Distribuido(Local): Configuração em um cluster ou em máquinas locais\n",
    "from dask.distributed import Client\n",
    "client = Client()\n",
    "\n",
    "# or\n",
    "\n",
    "client = Client(processes=False)"
   ]
  },
  {
   "cell_type": "code",
   "execution_count": 1,
   "metadata": {},
   "outputs": [],
   "source": [
    "# Código anterior com modificação para destacar o elemento com uma borda vermelha\n",
    "\n",
    "from selenium import webdriver\n",
    "from selenium.webdriver.common.by import By\n",
    "from selenium.webdriver.common.action_chains import ActionChains\n",
    "from selenium.webdriver.chrome.service import Service\n",
    "from webdriver_manager.chrome import ChromeDriverManager\n",
    "import time\n",
    "\n",
    "# Configurar o WebDriver\n",
    "service = Service(ChromeDriverManager().install())\n",
    "driver = webdriver.Chrome(service=service)"
   ]
  },
  {
   "cell_type": "code",
   "execution_count": 2,
   "metadata": {},
   "outputs": [],
   "source": [
    "url = \"https://footystats.org/brazil/serie-a/fixtures\"\n",
    "driver.get(url)\n",
    "time.sleep(3) "
   ]
  },
  {
   "cell_type": "code",
   "execution_count": null,
   "metadata": {},
   "outputs": [],
   "source": [
    "dropdown = driver.find_element(By.CLASS_NAME, 'drop-down-parent')\n",
    "\n",
    "actions = ActionChains(driver)\n",
    "actions.move_to_element(dropdown).perform()"
   ]
  },
  {
   "cell_type": "code",
   "execution_count": 5,
   "metadata": {},
   "outputs": [],
   "source": [
    "anos = driver.find_elements(By.XPATH, '//ul[@class=\"drop-down\"]/li/a')"
   ]
  },
  {
   "cell_type": "code",
   "execution_count": null,
   "metadata": {},
   "outputs": [],
   "source": [
    "anos_lista = [ano.text for ano in anos]\n",
    "for ano in anos_lista:\n",
    "    pass"
   ]
  },
  {
   "cell_type": "code",
   "execution_count": null,
   "metadata": {},
   "outputs": [],
   "source": [
    "ano = '2024'\n",
    "target = driver.find_element(By.XPATH, f'//a[@data-hash=\"{ano}\"]')\n",
    "time.sleep(3)\n",
    "target.click()"
   ]
  },
  {
   "cell_type": "code",
   "execution_count": null,
   "metadata": {},
   "outputs": [],
   "source": []
  },
  {
   "cell_type": "code",
   "execution_count": 28,
   "metadata": {},
   "outputs": [],
   "source": [
    "# jogos = driver.find_elements(By.CSS_SELECTOR, 'ul.match.row.cf')\n",
    "jogos = driver.find_elements(By.CLASS_NAME, 'match')\n"
   ]
  },
  {
   "cell_type": "code",
   "execution_count": null,
   "metadata": {},
   "outputs": [],
   "source": [
    "jogos = driver.find_elements(By.CLASS_NAME, 'match')\n",
    "\n",
    "for jogo in jogos:\n",
    "    time_casa = jogo.find_element(By.CLASS_NAME, 'home').text\n",
    "    time_visitante = jogo.find_element(By.CLASS_NAME, 'away').text\n",
    "    placar = jogo.find_element(By.CLASS_NAME, 'ft-score').text\n",
    "    print(f\"{time_casa} vs {time_visitante}: {placar}\")\n"
   ]
  },
  {
   "cell_type": "code",
   "execution_count": null,
   "metadata": {},
   "outputs": [
    {
     "ename": "NoSuchElementException",
     "evalue": "Message: no such element: Unable to locate element: {\"method\":\"css selector\",\"selector\":\".home-team\"}\n  (Session info: chrome=134.0.6998.178); For documentation on this error, please visit: https://www.selenium.dev/documentation/webdriver/troubleshooting/errors#no-such-element-exception\nStacktrace:\n\tGetHandleVerifier [0x00CBC7F3+24435]\n\t(No symbol) [0x00C42074]\n\t(No symbol) [0x00B106E3]\n\t(No symbol) [0x00B58B39]\n\t(No symbol) [0x00B58E8B]\n\t(No symbol) [0x00B4E1F1]\n\t(No symbol) [0x00B7D804]\n\t(No symbol) [0x00B4E114]\n\t(No symbol) [0x00B7DA34]\n\t(No symbol) [0x00B9F20A]\n\t(No symbol) [0x00B7D5B6]\n\t(No symbol) [0x00B4C54F]\n\t(No symbol) [0x00B4D894]\n\tGetHandleVerifier [0x00FC70A3+3213347]\n\tGetHandleVerifier [0x00FDB0C9+3295305]\n\tGetHandleVerifier [0x00FD558C+3271948]\n\tGetHandleVerifier [0x00D57360+658144]\n\t(No symbol) [0x00C4B27D]\n\t(No symbol) [0x00C48208]\n\t(No symbol) [0x00C483A9]\n\t(No symbol) [0x00C3AAC0]\n\tBaseThreadInitThunk [0x75DD5D49+25]\n\tRtlInitializeExceptionChain [0x7747CE3B+107]\n\tRtlGetAppContainerNamedObjectPath [0x7747CDC1+561]\n",
     "output_type": "error",
     "traceback": [
      "\u001b[1;31m---------------------------------------------------------------------------\u001b[0m",
      "\u001b[1;31mNoSuchElementException\u001b[0m                    Traceback (most recent call last)",
      "Cell \u001b[1;32mIn[24], line 2\u001b[0m\n\u001b[0;32m      1\u001b[0m jogo \u001b[38;5;241m=\u001b[39m jogos[\u001b[38;5;241m0\u001b[39m]\n\u001b[1;32m----> 2\u001b[0m \u001b[43mjogo\u001b[49m\u001b[38;5;241;43m.\u001b[39;49m\u001b[43mfind_element\u001b[49m\u001b[43m(\u001b[49m\u001b[43mBy\u001b[49m\u001b[38;5;241;43m.\u001b[39;49m\u001b[43mCLASS_NAME\u001b[49m\u001b[43m,\u001b[49m\u001b[43m \u001b[49m\u001b[38;5;124;43m'\u001b[39;49m\u001b[38;5;124;43mhome-team\u001b[39;49m\u001b[38;5;124;43m'\u001b[39;49m\u001b[43m)\u001b[49m\u001b[38;5;241m.\u001b[39mtext\n",
      "File \u001b[1;32mc:\\pyprojects\\pred_soccer\\.venv\\Lib\\site-packages\\selenium\\webdriver\\remote\\webelement.py:408\u001b[0m, in \u001b[0;36mWebElement.find_element\u001b[1;34m(self, by, value)\u001b[0m\n\u001b[0;32m    398\u001b[0m \u001b[38;5;250m\u001b[39m\u001b[38;5;124;03m\"\"\"Find an element given a By strategy and locator.\u001b[39;00m\n\u001b[0;32m    399\u001b[0m \n\u001b[0;32m    400\u001b[0m \u001b[38;5;124;03m:Usage:\u001b[39;00m\n\u001b[1;32m   (...)\u001b[0m\n\u001b[0;32m    405\u001b[0m \u001b[38;5;124;03m:rtype: WebElement\u001b[39;00m\n\u001b[0;32m    406\u001b[0m \u001b[38;5;124;03m\"\"\"\u001b[39;00m\n\u001b[0;32m    407\u001b[0m by, value \u001b[38;5;241m=\u001b[39m \u001b[38;5;28mself\u001b[39m\u001b[38;5;241m.\u001b[39m_parent\u001b[38;5;241m.\u001b[39mlocator_converter\u001b[38;5;241m.\u001b[39mconvert(by, value)\n\u001b[1;32m--> 408\u001b[0m \u001b[38;5;28;01mreturn\u001b[39;00m \u001b[38;5;28;43mself\u001b[39;49m\u001b[38;5;241;43m.\u001b[39;49m\u001b[43m_execute\u001b[49m\u001b[43m(\u001b[49m\u001b[43mCommand\u001b[49m\u001b[38;5;241;43m.\u001b[39;49m\u001b[43mFIND_CHILD_ELEMENT\u001b[49m\u001b[43m,\u001b[49m\u001b[43m \u001b[49m\u001b[43m{\u001b[49m\u001b[38;5;124;43m\"\u001b[39;49m\u001b[38;5;124;43musing\u001b[39;49m\u001b[38;5;124;43m\"\u001b[39;49m\u001b[43m:\u001b[49m\u001b[43m \u001b[49m\u001b[43mby\u001b[49m\u001b[43m,\u001b[49m\u001b[43m \u001b[49m\u001b[38;5;124;43m\"\u001b[39;49m\u001b[38;5;124;43mvalue\u001b[39;49m\u001b[38;5;124;43m\"\u001b[39;49m\u001b[43m:\u001b[49m\u001b[43m \u001b[49m\u001b[43mvalue\u001b[49m\u001b[43m}\u001b[49m\u001b[43m)\u001b[49m[\u001b[38;5;124m\"\u001b[39m\u001b[38;5;124mvalue\u001b[39m\u001b[38;5;124m\"\u001b[39m]\n",
      "File \u001b[1;32mc:\\pyprojects\\pred_soccer\\.venv\\Lib\\site-packages\\selenium\\webdriver\\remote\\webelement.py:395\u001b[0m, in \u001b[0;36mWebElement._execute\u001b[1;34m(self, command, params)\u001b[0m\n\u001b[0;32m    393\u001b[0m     params \u001b[38;5;241m=\u001b[39m {}\n\u001b[0;32m    394\u001b[0m params[\u001b[38;5;124m\"\u001b[39m\u001b[38;5;124mid\u001b[39m\u001b[38;5;124m\"\u001b[39m] \u001b[38;5;241m=\u001b[39m \u001b[38;5;28mself\u001b[39m\u001b[38;5;241m.\u001b[39m_id\n\u001b[1;32m--> 395\u001b[0m \u001b[38;5;28;01mreturn\u001b[39;00m \u001b[38;5;28;43mself\u001b[39;49m\u001b[38;5;241;43m.\u001b[39;49m\u001b[43m_parent\u001b[49m\u001b[38;5;241;43m.\u001b[39;49m\u001b[43mexecute\u001b[49m\u001b[43m(\u001b[49m\u001b[43mcommand\u001b[49m\u001b[43m,\u001b[49m\u001b[43m \u001b[49m\u001b[43mparams\u001b[49m\u001b[43m)\u001b[49m\n",
      "File \u001b[1;32mc:\\pyprojects\\pred_soccer\\.venv\\Lib\\site-packages\\selenium\\webdriver\\remote\\webdriver.py:384\u001b[0m, in \u001b[0;36mWebDriver.execute\u001b[1;34m(self, driver_command, params)\u001b[0m\n\u001b[0;32m    382\u001b[0m response \u001b[38;5;241m=\u001b[39m \u001b[38;5;28mself\u001b[39m\u001b[38;5;241m.\u001b[39mcommand_executor\u001b[38;5;241m.\u001b[39mexecute(driver_command, params)\n\u001b[0;32m    383\u001b[0m \u001b[38;5;28;01mif\u001b[39;00m response:\n\u001b[1;32m--> 384\u001b[0m     \u001b[38;5;28;43mself\u001b[39;49m\u001b[38;5;241;43m.\u001b[39;49m\u001b[43merror_handler\u001b[49m\u001b[38;5;241;43m.\u001b[39;49m\u001b[43mcheck_response\u001b[49m\u001b[43m(\u001b[49m\u001b[43mresponse\u001b[49m\u001b[43m)\u001b[49m\n\u001b[0;32m    385\u001b[0m     response[\u001b[38;5;124m\"\u001b[39m\u001b[38;5;124mvalue\u001b[39m\u001b[38;5;124m\"\u001b[39m] \u001b[38;5;241m=\u001b[39m \u001b[38;5;28mself\u001b[39m\u001b[38;5;241m.\u001b[39m_unwrap_value(response\u001b[38;5;241m.\u001b[39mget(\u001b[38;5;124m\"\u001b[39m\u001b[38;5;124mvalue\u001b[39m\u001b[38;5;124m\"\u001b[39m, \u001b[38;5;28;01mNone\u001b[39;00m))\n\u001b[0;32m    386\u001b[0m     \u001b[38;5;28;01mreturn\u001b[39;00m response\n",
      "File \u001b[1;32mc:\\pyprojects\\pred_soccer\\.venv\\Lib\\site-packages\\selenium\\webdriver\\remote\\errorhandler.py:232\u001b[0m, in \u001b[0;36mErrorHandler.check_response\u001b[1;34m(self, response)\u001b[0m\n\u001b[0;32m    230\u001b[0m         alert_text \u001b[38;5;241m=\u001b[39m value[\u001b[38;5;124m\"\u001b[39m\u001b[38;5;124malert\u001b[39m\u001b[38;5;124m\"\u001b[39m]\u001b[38;5;241m.\u001b[39mget(\u001b[38;5;124m\"\u001b[39m\u001b[38;5;124mtext\u001b[39m\u001b[38;5;124m\"\u001b[39m)\n\u001b[0;32m    231\u001b[0m     \u001b[38;5;28;01mraise\u001b[39;00m exception_class(message, screen, stacktrace, alert_text)  \u001b[38;5;66;03m# type: ignore[call-arg]  # mypy is not smart enough here\u001b[39;00m\n\u001b[1;32m--> 232\u001b[0m \u001b[38;5;28;01mraise\u001b[39;00m exception_class(message, screen, stacktrace)\n",
      "\u001b[1;31mNoSuchElementException\u001b[0m: Message: no such element: Unable to locate element: {\"method\":\"css selector\",\"selector\":\".home-team\"}\n  (Session info: chrome=134.0.6998.178); For documentation on this error, please visit: https://www.selenium.dev/documentation/webdriver/troubleshooting/errors#no-such-element-exception\nStacktrace:\n\tGetHandleVerifier [0x00CBC7F3+24435]\n\t(No symbol) [0x00C42074]\n\t(No symbol) [0x00B106E3]\n\t(No symbol) [0x00B58B39]\n\t(No symbol) [0x00B58E8B]\n\t(No symbol) [0x00B4E1F1]\n\t(No symbol) [0x00B7D804]\n\t(No symbol) [0x00B4E114]\n\t(No symbol) [0x00B7DA34]\n\t(No symbol) [0x00B9F20A]\n\t(No symbol) [0x00B7D5B6]\n\t(No symbol) [0x00B4C54F]\n\t(No symbol) [0x00B4D894]\n\tGetHandleVerifier [0x00FC70A3+3213347]\n\tGetHandleVerifier [0x00FDB0C9+3295305]\n\tGetHandleVerifier [0x00FD558C+3271948]\n\tGetHandleVerifier [0x00D57360+658144]\n\t(No symbol) [0x00C4B27D]\n\t(No symbol) [0x00C48208]\n\t(No symbol) [0x00C483A9]\n\t(No symbol) [0x00C3AAC0]\n\tBaseThreadInitThunk [0x75DD5D49+25]\n\tRtlInitializeExceptionChain [0x7747CE3B+107]\n\tRtlGetAppContainerNamedObjectPath [0x7747CDC1+561]\n"
     ]
    }
   ],
   "source": [
    "jogo = jogos[0]\n",
    "jogo.find_element(By.CLASS_NAME, 'home').text"
   ]
  },
  {
   "cell_type": "code",
   "execution_count": 32,
   "metadata": {},
   "outputs": [],
   "source": [
    "base_url:str=\"https://www.football-data.co.uk/new\"\n",
    "output_dir=\"database/csv\"\n",
    "\n",
    "list_all_divisions = {\n",
    "        \"Argentina\": \"ARG\",\n",
    "        \"Áustria\": \"AUT\",\n",
    "        \"Brasil\": \"BRA\",\n",
    "        \"China\": \"CHN\",\n",
    "        \"Dinamarca\": \"DNK\",\n",
    "        \"Finlândia\": \"FIN\",\n",
    "        \"Irlanda\": \"IRL\",\n",
    "        \"Japão\": \"JPN\",\n",
    "        \"México\": \"MEX\",\n",
    "        \"Noruega\": \"NOR\",\n",
    "        \"Polônia\": \"POL\",\n",
    "        \"Romênia\": \"ROU\",\n",
    "        \"Rússia\": \"RUS\",\n",
    "        \"Suécia\": \"SWE\",\n",
    "        \"Suíça\": \"CHE\",\n",
    "        \"EUA\": \"USA\"\n",
    "    }"
   ]
  },
  {
   "cell_type": "code",
   "execution_count": 33,
   "metadata": {},
   "outputs": [],
   "source": [
    "import os\n",
    "code = \"BRA\"\n",
    "\n",
    "file_url = f\"{base_url}/{code}.csv\"\n",
    "file_path = os.path.join(output_dir, f\"{code}.csv\")"
   ]
  },
  {
   "cell_type": "code",
   "execution_count": 35,
   "metadata": {},
   "outputs": [
    {
     "data": {
      "text/plain": [
       "'https://www.football-data.co.uk/new/BRA.csv'"
      ]
     },
     "execution_count": 35,
     "metadata": {},
     "output_type": "execute_result"
    }
   ],
   "source": [
    "file_url"
   ]
  }
 ],
 "metadata": {
  "kernelspec": {
   "display_name": ".venv",
   "language": "python",
   "name": "python3"
  },
  "language_info": {
   "codemirror_mode": {
    "name": "ipython",
    "version": 3
   },
   "file_extension": ".py",
   "mimetype": "text/x-python",
   "name": "python",
   "nbconvert_exporter": "python",
   "pygments_lexer": "ipython3",
   "version": "3.12.9"
  }
 },
 "nbformat": 4,
 "nbformat_minor": 2
}
