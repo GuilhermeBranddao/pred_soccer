{
 "cells": [
  {
   "cell_type": "markdown",
   "metadata": {},
   "source": [
    "### Entendendo a importancia de cada feature no modelo"
   ]
  },
  {
   "cell_type": "code",
   "execution_count": 3,
   "metadata": {},
   "outputs": [],
   "source": [
    "import os\n",
    "\n",
    "os.chdir(\"..\")"
   ]
  },
  {
   "cell_type": "code",
   "execution_count": 10,
   "metadata": {},
   "outputs": [],
   "source": [
    "from pathlib import Path\n",
    "from modelagem.train.model_trainer import load_model, load_json"
   ]
  },
  {
   "cell_type": "code",
   "execution_count": 6,
   "metadata": {},
   "outputs": [
    {
     "name": "stderr",
     "output_type": "stream",
     "text": [
      "2025-04-15 17:33:41,450 | main | INFO | model_trainer | load_model | Modelo carregado com sucesso de: database\\models\\logistic_regression_model.pkl\n"
     ]
    }
   ],
   "source": [
    "MODEL_DIR = Path(\"database\", \"models\") \n",
    "model = load_model(os.path.join(MODEL_DIR, \"logistic_regression_model.pkl\"))"
   ]
  },
  {
   "cell_type": "code",
   "execution_count": 11,
   "metadata": {},
   "outputs": [],
   "source": [
    "path_feature_order = os.path.join(MODEL_DIR, \"feature_order.json\")\n",
    "list_feature_order:list[str] = load_json(path_feature_order)"
   ]
  },
  {
   "cell_type": "code",
   "execution_count": 13,
   "metadata": {},
   "outputs": [
    {
     "name": "stdout",
     "output_type": "stream",
     "text": [
      "                            feature  coeficiente  impacto_absoluto\n",
      "5   away_team_goals_conceded_last_5    -1.002166          1.002166\n",
      "4   home_team_goals_conceded_last_5     0.738323          0.738323\n",
      "21                    goal_avg_diff    -0.555507          0.555507\n",
      "1         away_team_last_5_win_rate    -0.521173          0.521173\n",
      "0         home_team_last_5_win_rate    -0.497148          0.497148\n",
      "8           home_team_home_win_rate     0.450051          0.450051\n",
      "11          away_team_away_goal_avg     0.364068          0.364068\n",
      "3         away_team_goal_avg_last_5     0.314265          0.314265\n",
      "6                    home_team_form     0.262165          0.262165\n",
      "2         home_team_goal_avg_last_5    -0.241242          0.241242\n"
     ]
    }
   ],
   "source": [
    "import pandas as pd\n",
    "import numpy as np\n",
    "\n",
    "# Coeficientes (1 linha por classe, 1 coluna por feature)\n",
    "coefs = model.coef_[0]  # se for binário, pode pegar só a primeira linha\n",
    "\n",
    "# Criar DataFrame com feature e coeficiente\n",
    "coef_df = pd.DataFrame({\n",
    "    'feature': list_feature_order,  # lista salva durante o treinamento\n",
    "    'coeficiente': coefs\n",
    "})\n",
    "\n",
    "# Adiciona valor absoluto para ajudar na ordenação\n",
    "coef_df['impacto_absoluto'] = np.abs(coef_df['coeficiente'])\n",
    "\n",
    "# Ordenar pela importância\n",
    "coef_df.sort_values(by='impacto_absoluto', ascending=False, inplace=True)\n",
    "\n",
    "print(coef_df.head(10))  # top 10 variáveis mais impactantes\n"
   ]
  },
  {
   "cell_type": "code",
   "execution_count": null,
   "metadata": {},
   "outputs": [],
   "source": []
  },
  {
   "cell_type": "code",
   "execution_count": null,
   "metadata": {},
   "outputs": [],
   "source": []
  },
  {
   "cell_type": "code",
   "execution_count": null,
   "metadata": {},
   "outputs": [],
   "source": []
  }
 ],
 "metadata": {
  "kernelspec": {
   "display_name": ".venv",
   "language": "python",
   "name": "python3"
  },
  "language_info": {
   "codemirror_mode": {
    "name": "ipython",
    "version": 3
   },
   "file_extension": ".py",
   "mimetype": "text/x-python",
   "name": "python",
   "nbconvert_exporter": "python",
   "pygments_lexer": "ipython3",
   "version": "3.12.10"
  }
 },
 "nbformat": 4,
 "nbformat_minor": 2
}
