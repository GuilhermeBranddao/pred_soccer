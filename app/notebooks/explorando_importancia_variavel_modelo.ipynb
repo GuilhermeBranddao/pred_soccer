{
 "cells": [
  {
   "cell_type": "markdown",
   "metadata": {},
   "source": [
    "### Entendendo a importancia de cada feature no modelo"
   ]
  },
  {
   "cell_type": "code",
   "execution_count": null,
   "metadata": {},
   "outputs": [],
   "source": [
    "import os\n",
    "\n",
    "os.chdir(\"..\")\n",
    "os.chdir(\"..\")"
   ]
  },
  {
   "cell_type": "code",
   "execution_count": 4,
   "metadata": {},
   "outputs": [
    {
     "name": "stderr",
     "output_type": "stream",
     "text": [
      "2025-04-16 10:40:53,864 | main | INFO | logs | <module> | Logger configurado com sucesso.\n"
     ]
    }
   ],
   "source": [
    "from pathlib import Path\n",
    "from modelagem.train.model_trainer import load_model, load_json"
   ]
  },
  {
   "cell_type": "code",
   "execution_count": 5,
   "metadata": {},
   "outputs": [
    {
     "name": "stderr",
     "output_type": "stream",
     "text": [
      "2025-04-16 10:40:55,165 | main | INFO | model_trainer | load_model | Modelo carregado com sucesso de: database\\models\\logistic_regression_model.pkl\n"
     ]
    }
   ],
   "source": [
    "MODEL_DIR = Path(\"database\", \"models\") \n",
    "model = load_model(os.path.join(MODEL_DIR, \"logistic_regression_model.pkl\"))"
   ]
  },
  {
   "cell_type": "code",
   "execution_count": 6,
   "metadata": {},
   "outputs": [],
   "source": [
    "path_feature_order = os.path.join(MODEL_DIR, \"feature_order.json\")\n",
    "list_feature_order:list[str] = load_json(path_feature_order)"
   ]
  },
  {
   "cell_type": "code",
   "execution_count": 7,
   "metadata": {},
   "outputs": [
    {
     "name": "stdout",
     "output_type": "stream",
     "text": [
      "                            feature  coeficiente  impacto_absoluto\n",
      "5   away_team_goals_conceded_last_5    -1.002166          1.002166\n",
      "4   home_team_goals_conceded_last_5     0.738323          0.738323\n",
      "21                    goal_avg_diff    -0.555507          0.555507\n",
      "1         away_team_last_5_win_rate    -0.521173          0.521173\n",
      "0         home_team_last_5_win_rate    -0.497148          0.497148\n",
      "8           home_team_home_win_rate     0.450051          0.450051\n",
      "11          away_team_away_goal_avg     0.364068          0.364068\n",
      "3         away_team_goal_avg_last_5     0.314265          0.314265\n",
      "6                    home_team_form     0.262165          0.262165\n",
      "2         home_team_goal_avg_last_5    -0.241242          0.241242\n"
     ]
    }
   ],
   "source": [
    "import pandas as pd\n",
    "import numpy as np\n",
    "\n",
    "# Coeficientes (1 linha por classe, 1 coluna por feature)\n",
    "coefs = model.coef_[0]  # se for binário, pode pegar só a primeira linha\n",
    "\n",
    "# Criar DataFrame com feature e coeficiente\n",
    "coef_df = pd.DataFrame({\n",
    "    'feature': list_feature_order,  # lista salva durante o treinamento\n",
    "    'coeficiente': coefs\n",
    "})\n",
    "\n",
    "# Adiciona valor absoluto para ajudar na ordenação\n",
    "coef_df['impacto_absoluto'] = np.abs(coef_df['coeficiente'])\n",
    "\n",
    "# Ordenar pela importância\n",
    "coef_df.sort_values(by='impacto_absoluto', ascending=False, inplace=True)\n",
    "\n",
    "print(coef_df.head(10))  # top 10 variáveis mais impactantes\n"
   ]
  },
  {
   "cell_type": "code",
   "execution_count": null,
   "metadata": {},
   "outputs": [
    {
     "name": "stderr",
     "output_type": "stream",
     "text": [
      "c:\\pyprojects\\pred_soccer\\.venv\\Lib\\site-packages\\tqdm\\auto.py:21: TqdmWarning: IProgress not found. Please update jupyter and ipywidgets. See https://ipywidgets.readthedocs.io/en/stable/user_install.html\n",
      "  from .autonotebook import tqdm as notebook_tqdm\n"
     ]
    },
    {
     "ename": "NameError",
     "evalue": "name 'X_train_scaled' is not defined",
     "output_type": "error",
     "traceback": [
      "\u001b[1;31m---------------------------------------------------------------------------\u001b[0m",
      "\u001b[1;31mNameError\u001b[0m                                 Traceback (most recent call last)",
      "Cell \u001b[1;32mIn[8], line 3\u001b[0m\n\u001b[0;32m      1\u001b[0m \u001b[38;5;28;01mimport\u001b[39;00m \u001b[38;5;21;01mshap\u001b[39;00m\n\u001b[1;32m----> 3\u001b[0m explainer \u001b[38;5;241m=\u001b[39m shap\u001b[38;5;241m.\u001b[39mExplainer(model, \u001b[43mX_train_scaled\u001b[49m)\n\u001b[0;32m      4\u001b[0m shap_values \u001b[38;5;241m=\u001b[39m explainer(df_merge_scaled)\n\u001b[0;32m      6\u001b[0m shap\u001b[38;5;241m.\u001b[39mplots\u001b[38;5;241m.\u001b[39mwaterfall(shap_values[\u001b[38;5;241m0\u001b[39m])\n",
      "\u001b[1;31mNameError\u001b[0m: name 'X_train_scaled' is not defined"
     ]
    }
   ],
   "source": [
    "import shap\n",
    "\n",
    "explainer = shap.Explainer(model, X_train_scaled)\n",
    "shap_values = explainer(df_merge_scaled)\n",
    "\n",
    "shap.plots.waterfall(shap_values[0])\n"
   ]
  },
  {
   "cell_type": "code",
   "execution_count": null,
   "metadata": {},
   "outputs": [],
   "source": []
  },
  {
   "cell_type": "code",
   "execution_count": null,
   "metadata": {},
   "outputs": [],
   "source": []
  }
 ],
 "metadata": {
  "kernelspec": {
   "display_name": ".venv",
   "language": "python",
   "name": "python3"
  },
  "language_info": {
   "codemirror_mode": {
    "name": "ipython",
    "version": 3
   },
   "file_extension": ".py",
   "mimetype": "text/x-python",
   "name": "python",
   "nbconvert_exporter": "python",
   "pygments_lexer": "ipython3",
   "version": "3.12.10"
  }
 },
 "nbformat": 4,
 "nbformat_minor": 2
}
