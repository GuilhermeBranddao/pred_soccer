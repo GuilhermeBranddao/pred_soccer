{
 "cells": [
  {
   "cell_type": "code",
   "execution_count": 24,
   "metadata": {},
   "outputs": [],
   "source": [
    "from typing import Any, Optional\n",
    "\n",
    "\n",
    "class FunctionResult:\n",
    "    \"\"\"\n",
    "    Representa o resultado de uma função, contendo informações sobre sucesso, mensagem, dados e exceção (se houver).\n",
    "    \"\"\"\n",
    "\n",
    "    def __init__(self, success: bool, message: str = \"\", data: Any = None, exception: Optional[Exception] = None):\n",
    "        self.success = success\n",
    "        self.message = message\n",
    "        self.data = data\n",
    "        self.exception = exception\n",
    "\n",
    "    def __repr__(self) -> str:\n",
    "        return self.__str__()\n",
    "\n",
    "    def __str__(self) -> str:\n",
    "        status = \"✅ Sucesso\" if self.success else \"❌ Erro\"\n",
    "        if self.exception:\n",
    "            return f\"{status}: {self.message} | {type(self.exception).__name__}: {self.exception}\"\n",
    "        return f\"{status}: {self.message}\"\n",
    "\n",
    "\n",
    "def exemplo(x: int) -> FunctionResult:\n",
    "    try:\n",
    "        if x < 0:\n",
    "            raise ValueError(\"Valor negativo não permitido.\")\n",
    "        return FunctionResult(True, \"Operação realizada com sucesso.\", x * 2)\n",
    "    except Exception as e:\n",
    "        return FunctionResult(False, \"Erro ao processar valor.\", None, exception=e)\n",
    "\n",
    "\n",
    "resultado = exemplo(5)\n",
    "if not resultado.success:\n",
    "    print(\"OK\")\n"
   ]
  },
  {
   "cell_type": "code",
   "execution_count": 22,
   "metadata": {},
   "outputs": [
    {
     "data": {
      "text/plain": [
       "True"
      ]
     },
     "execution_count": 22,
     "metadata": {},
     "output_type": "execute_result"
    }
   ],
   "source": [
    "resultado.success"
   ]
  },
  {
   "cell_type": "code",
   "execution_count": 16,
   "metadata": {},
   "outputs": [],
   "source": [
    "# FunctionResult(True, \"DataFrame está vazio.\")"
   ]
  },
  {
   "cell_type": "code",
   "execution_count": 17,
   "metadata": {},
   "outputs": [],
   "source": [
    "import pandas as pd\n",
    "\n",
    "def base_pre_processing(df: pd.DataFrame) -> FunctionResult:\n",
    "    try:\n",
    "        # Exemplo de checagem\n",
    "        if df.empty:\n",
    "            return FunctionResult(False, \"DataFrame está vazio.\", df)\n",
    "\n",
    "        # Imaginando algum processamento aqui\n",
    "        df_processed = df.copy()\n",
    "        df_processed[\"nova_coluna\"] = 123  # Exemplo qualquer\n",
    "        df_processed[\"novw2wa_coluna\"]\n",
    "        return FunctionResult(True, \"Pré-processamento concluído com sucesso.\", df_processed)\n",
    "\n",
    "    except Exception as e:\n",
    "        return FunctionResult(False, \"Erro durante o pré-processamento.\", df, exception=e)\n"
   ]
  },
  {
   "cell_type": "code",
   "execution_count": 18,
   "metadata": {},
   "outputs": [
    {
     "ename": "IndentationError",
     "evalue": "unexpected indent (3928436232.py, line 11)",
     "output_type": "error",
     "traceback": [
      "\u001b[1;36m  Cell \u001b[1;32mIn[18], line 11\u001b[1;36m\u001b[0m\n\u001b[1;33m    print(f\"Detalhes do erro: {type(result.exception).__name__} - {result.exception}\")\u001b[0m\n\u001b[1;37m    ^\u001b[0m\n\u001b[1;31mIndentationError\u001b[0m\u001b[1;31m:\u001b[0m unexpected indent\n"
     ]
    }
   ],
   "source": [
    "import pandas as pd\n",
    "\n",
    "# Suponha que df seja um DataFrame carregado antes\n",
    "result = base_pre_processing(df=pd.DataFrame([{\"teste\":\"ok\"}]))\n",
    "\n",
    "if result.success:\n",
    "    df = result.data\n",
    "else:\n",
    "    print(result)\n",
    "    #if result.exception:\n",
    "        print(f\"Detalhes do erro: {type(result.exception).__name__} - {result.exception}\")\n"
   ]
  },
  {
   "cell_type": "code",
   "execution_count": null,
   "metadata": {},
   "outputs": [],
   "source": []
  }
 ],
 "metadata": {
  "kernelspec": {
   "display_name": ".venv",
   "language": "python",
   "name": "python3"
  },
  "language_info": {
   "codemirror_mode": {
    "name": "ipython",
    "version": 3
   },
   "file_extension": ".py",
   "mimetype": "text/x-python",
   "name": "python",
   "nbconvert_exporter": "python",
   "pygments_lexer": "ipython3",
   "version": "3.12.10"
  }
 },
 "nbformat": 4,
 "nbformat_minor": 2
}
